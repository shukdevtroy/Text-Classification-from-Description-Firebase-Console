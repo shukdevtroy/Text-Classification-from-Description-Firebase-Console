{
  "nbformat": 4,
  "nbformat_minor": 0,
  "metadata": {
    "colab": {
      "provenance": []
    },
    "kernelspec": {
      "name": "python3",
      "display_name": "Python 3"
    },
    "language_info": {
      "name": "python"
    },
    "widgets": {
      "application/vnd.jupyter.widget-state+json": {
        "295ec11ddbee4922ad72c877cc4a94bb": {
          "model_module": "@jupyter-widgets/controls",
          "model_name": "TextareaModel",
          "model_module_version": "1.5.0",
          "state": {
            "_dom_classes": [],
            "_model_module": "@jupyter-widgets/controls",
            "_model_module_version": "1.5.0",
            "_model_name": "TextareaModel",
            "_view_count": null,
            "_view_module": "@jupyter-widgets/controls",
            "_view_module_version": "1.5.0",
            "_view_name": "TextareaView",
            "continuous_update": true,
            "description": "Enter Job Description:",
            "description_tooltip": null,
            "disabled": false,
            "layout": "IPY_MODEL_5e2966319feb434d95c996e2029e4ed4",
            "placeholder": "​",
            "rows": null,
            "style": "IPY_MODEL_343ecb7caa8f4e6aaad5e085a212b8fb",
            "value": "We are looking for a Business Intelligence (BI) Developer to design, implement, and manage BI solutions that facilitate data-driven decision-making. This role involves translating business requirements into technical specifications, creating and deploying data integration processes and ETL workflows, and developing interactive dashboards and reports using BI tools such as Power BI or Tableau. The BI Developer will also optimize SQL queries for efficient data retrieval, analyze data trends to uncover business opportunities and risks, and collaborate with cross-functional teams to ensure BI solutions align with business needs. A Bachelor’s or Master’s degree in Computer Science, Information Systems, or a related field is required, along with strong SQL skills, experience with relational databases, and familiarity with BI tools and data warehousing concepts. The ideal candidate will have excellent analytical, problem solving, and communication skills, with the ability to work independently and as part of a team."
          }
        },
        "5e2966319feb434d95c996e2029e4ed4": {
          "model_module": "@jupyter-widgets/base",
          "model_name": "LayoutModel",
          "model_module_version": "1.2.0",
          "state": {
            "_model_module": "@jupyter-widgets/base",
            "_model_module_version": "1.2.0",
            "_model_name": "LayoutModel",
            "_view_count": null,
            "_view_module": "@jupyter-widgets/base",
            "_view_module_version": "1.2.0",
            "_view_name": "LayoutView",
            "align_content": null,
            "align_items": null,
            "align_self": null,
            "border": null,
            "bottom": null,
            "display": null,
            "flex": null,
            "flex_flow": null,
            "grid_area": null,
            "grid_auto_columns": null,
            "grid_auto_flow": null,
            "grid_auto_rows": null,
            "grid_column": null,
            "grid_gap": null,
            "grid_row": null,
            "grid_template_areas": null,
            "grid_template_columns": null,
            "grid_template_rows": null,
            "height": "200px",
            "justify_content": null,
            "justify_items": null,
            "left": null,
            "margin": null,
            "max_height": null,
            "max_width": null,
            "min_height": null,
            "min_width": null,
            "object_fit": null,
            "object_position": null,
            "order": null,
            "overflow": null,
            "overflow_x": null,
            "overflow_y": null,
            "padding": null,
            "right": null,
            "top": null,
            "visibility": null,
            "width": "70%"
          }
        },
        "343ecb7caa8f4e6aaad5e085a212b8fb": {
          "model_module": "@jupyter-widgets/controls",
          "model_name": "DescriptionStyleModel",
          "model_module_version": "1.5.0",
          "state": {
            "_model_module": "@jupyter-widgets/controls",
            "_model_module_version": "1.5.0",
            "_model_name": "DescriptionStyleModel",
            "_view_count": null,
            "_view_module": "@jupyter-widgets/base",
            "_view_module_version": "1.2.0",
            "_view_name": "StyleView",
            "description_width": ""
          }
        },
        "8b84ab1fa69347c48e59759db3b733fb": {
          "model_module": "@jupyter-widgets/controls",
          "model_name": "ButtonModel",
          "model_module_version": "1.5.0",
          "state": {
            "_dom_classes": [],
            "_model_module": "@jupyter-widgets/controls",
            "_model_module_version": "1.5.0",
            "_model_name": "ButtonModel",
            "_view_count": null,
            "_view_module": "@jupyter-widgets/controls",
            "_view_module_version": "1.5.0",
            "_view_name": "ButtonView",
            "button_style": "",
            "description": "Ask for Job Position Recommendation",
            "disabled": false,
            "icon": "",
            "layout": "IPY_MODEL_c2e56e9ba7bb4f02b219aa0526bc9d90",
            "style": "IPY_MODEL_698537e5f70948058e9c7e81ede6ad2c",
            "tooltip": ""
          }
        },
        "c2e56e9ba7bb4f02b219aa0526bc9d90": {
          "model_module": "@jupyter-widgets/base",
          "model_name": "LayoutModel",
          "model_module_version": "1.2.0",
          "state": {
            "_model_module": "@jupyter-widgets/base",
            "_model_module_version": "1.2.0",
            "_model_name": "LayoutModel",
            "_view_count": null,
            "_view_module": "@jupyter-widgets/base",
            "_view_module_version": "1.2.0",
            "_view_name": "LayoutView",
            "align_content": null,
            "align_items": null,
            "align_self": null,
            "border": null,
            "bottom": null,
            "display": null,
            "flex": null,
            "flex_flow": null,
            "grid_area": null,
            "grid_auto_columns": null,
            "grid_auto_flow": null,
            "grid_auto_rows": null,
            "grid_column": null,
            "grid_gap": null,
            "grid_row": null,
            "grid_template_areas": null,
            "grid_template_columns": null,
            "grid_template_rows": null,
            "height": null,
            "justify_content": null,
            "justify_items": null,
            "left": null,
            "margin": "20px 0 20px 0",
            "max_height": null,
            "max_width": null,
            "min_height": null,
            "min_width": null,
            "object_fit": null,
            "object_position": null,
            "order": null,
            "overflow": null,
            "overflow_x": null,
            "overflow_y": null,
            "padding": null,
            "right": null,
            "top": null,
            "visibility": null,
            "width": null
          }
        },
        "698537e5f70948058e9c7e81ede6ad2c": {
          "model_module": "@jupyter-widgets/controls",
          "model_name": "ButtonStyleModel",
          "model_module_version": "1.5.0",
          "state": {
            "_model_module": "@jupyter-widgets/controls",
            "_model_module_version": "1.5.0",
            "_model_name": "ButtonStyleModel",
            "_view_count": null,
            "_view_module": "@jupyter-widgets/base",
            "_view_module_version": "1.2.0",
            "_view_name": "StyleView",
            "button_color": "#7CF5FF",
            "font_weight": ""
          }
        },
        "65081fa3d22040dabed3ea8e52b2053f": {
          "model_module": "@jupyter-widgets/controls",
          "model_name": "TextareaModel",
          "model_module_version": "1.5.0",
          "state": {
            "_dom_classes": [],
            "_model_module": "@jupyter-widgets/controls",
            "_model_module_version": "1.5.0",
            "_model_name": "TextareaModel",
            "_view_count": null,
            "_view_module": "@jupyter-widgets/controls",
            "_view_module_version": "1.5.0",
            "_view_name": "TextareaView",
            "continuous_update": true,
            "description": "Output:",
            "description_tooltip": null,
            "disabled": false,
            "layout": "IPY_MODEL_70ebd37a4ce141108b7e47f26450b77b",
            "placeholder": "​",
            "rows": null,
            "style": "IPY_MODEL_27334c1ce59e497d8212b20d7805fe0e",
            "value": "Closest Description found: Design, develop, and maintain BI solutions by gathering business requirements and translating them into technical specifications. Create and deploy data integration processes and ETL workflows. Develop and optimize SQL queries for efficient data retrieval and reporting. Design, build, and deploy interactive dashboards and reports using BI tools such as Power BI, Tableau, or similar. Analyze data trends to identify business opportunities and risks. Collaborate with cross-functional teams to ensure BI solutions meet business needs. Document BI processes and maintain data dictionaries. B.Sc or M.Sc in Computer Science, Information Systems, or a related field. Strong knowledge of SQL and relational databases like SQL Server, Oracle, or MySQL. Experience with BI tools such as Power BI, Tableau, or QlikView. Familiarity with data warehousing concepts and ETL processes. Strong analytical and problem-solving skills. Good communication skills in English, both written and spoken. Ability to work independently and in a team environment. Must be proactive and detail-oriented.\nSimilarity: 78.45%\nJob Position Recommended: Business Intelligence (BI) Developer"
          }
        },
        "70ebd37a4ce141108b7e47f26450b77b": {
          "model_module": "@jupyter-widgets/base",
          "model_name": "LayoutModel",
          "model_module_version": "1.2.0",
          "state": {
            "_model_module": "@jupyter-widgets/base",
            "_model_module_version": "1.2.0",
            "_model_name": "LayoutModel",
            "_view_count": null,
            "_view_module": "@jupyter-widgets/base",
            "_view_module_version": "1.2.0",
            "_view_name": "LayoutView",
            "align_content": null,
            "align_items": null,
            "align_self": null,
            "border": null,
            "bottom": null,
            "display": null,
            "flex": null,
            "flex_flow": null,
            "grid_area": null,
            "grid_auto_columns": null,
            "grid_auto_flow": null,
            "grid_auto_rows": null,
            "grid_column": null,
            "grid_gap": null,
            "grid_row": null,
            "grid_template_areas": null,
            "grid_template_columns": null,
            "grid_template_rows": null,
            "height": "200px",
            "justify_content": null,
            "justify_items": null,
            "left": null,
            "margin": null,
            "max_height": null,
            "max_width": null,
            "min_height": null,
            "min_width": null,
            "object_fit": null,
            "object_position": null,
            "order": null,
            "overflow": null,
            "overflow_x": null,
            "overflow_y": null,
            "padding": null,
            "right": null,
            "top": null,
            "visibility": null,
            "width": "70%"
          }
        },
        "27334c1ce59e497d8212b20d7805fe0e": {
          "model_module": "@jupyter-widgets/controls",
          "model_name": "DescriptionStyleModel",
          "model_module_version": "1.5.0",
          "state": {
            "_model_module": "@jupyter-widgets/controls",
            "_model_module_version": "1.5.0",
            "_model_name": "DescriptionStyleModel",
            "_view_count": null,
            "_view_module": "@jupyter-widgets/base",
            "_view_module_version": "1.2.0",
            "_view_name": "StyleView",
            "description_width": ""
          }
        },
        "d03d2302ed474c75979b365cdf317626": {
          "model_module": "@jupyter-widgets/controls",
          "model_name": "ButtonModel",
          "model_module_version": "1.5.0",
          "state": {
            "_dom_classes": [],
            "_model_module": "@jupyter-widgets/controls",
            "_model_module_version": "1.5.0",
            "_model_name": "ButtonModel",
            "_view_count": null,
            "_view_module": "@jupyter-widgets/controls",
            "_view_module_version": "1.5.0",
            "_view_name": "ButtonView",
            "button_style": "",
            "description": "Refresh",
            "disabled": false,
            "icon": "",
            "layout": "IPY_MODEL_3aa88028cc9e428c92f6c57f072f47bc",
            "style": "IPY_MODEL_eecae7dfd7984b45b9a16297555a1df2",
            "tooltip": ""
          }
        },
        "3aa88028cc9e428c92f6c57f072f47bc": {
          "model_module": "@jupyter-widgets/base",
          "model_name": "LayoutModel",
          "model_module_version": "1.2.0",
          "state": {
            "_model_module": "@jupyter-widgets/base",
            "_model_module_version": "1.2.0",
            "_model_name": "LayoutModel",
            "_view_count": null,
            "_view_module": "@jupyter-widgets/base",
            "_view_module_version": "1.2.0",
            "_view_name": "LayoutView",
            "align_content": null,
            "align_items": null,
            "align_self": null,
            "border": null,
            "bottom": null,
            "display": null,
            "flex": null,
            "flex_flow": null,
            "grid_area": null,
            "grid_auto_columns": null,
            "grid_auto_flow": null,
            "grid_auto_rows": null,
            "grid_column": null,
            "grid_gap": null,
            "grid_row": null,
            "grid_template_areas": null,
            "grid_template_columns": null,
            "grid_template_rows": null,
            "height": null,
            "justify_content": null,
            "justify_items": null,
            "left": null,
            "margin": "20px 0 20px 0",
            "max_height": null,
            "max_width": null,
            "min_height": null,
            "min_width": null,
            "object_fit": null,
            "object_position": null,
            "order": null,
            "overflow": null,
            "overflow_x": null,
            "overflow_y": null,
            "padding": null,
            "right": null,
            "top": null,
            "visibility": null,
            "width": null
          }
        },
        "eecae7dfd7984b45b9a16297555a1df2": {
          "model_module": "@jupyter-widgets/controls",
          "model_name": "ButtonStyleModel",
          "model_module_version": "1.5.0",
          "state": {
            "_model_module": "@jupyter-widgets/controls",
            "_model_module_version": "1.5.0",
            "_model_name": "ButtonStyleModel",
            "_view_count": null,
            "_view_module": "@jupyter-widgets/base",
            "_view_module_version": "1.2.0",
            "_view_name": "StyleView",
            "button_color": "#FFFBE6",
            "font_weight": ""
          }
        },
        "d94e22998e0f44d5bcc14a829dc54093": {
          "model_module": "@jupyter-widgets/controls",
          "model_name": "TextModel",
          "model_module_version": "1.5.0",
          "state": {
            "_dom_classes": [],
            "_model_module": "@jupyter-widgets/controls",
            "_model_module_version": "1.5.0",
            "_model_name": "TextModel",
            "_view_count": null,
            "_view_module": "@jupyter-widgets/controls",
            "_view_module_version": "1.5.0",
            "_view_name": "TextView",
            "continuous_update": true,
            "description": "User Email Address:",
            "description_tooltip": null,
            "disabled": false,
            "layout": "IPY_MODEL_18fd3ac85e3646fa83abade1663f1cce",
            "placeholder": "​",
            "style": "IPY_MODEL_0dbb4bc3c4a24cdbba14e69a80908af3",
            "value": ""
          }
        },
        "18fd3ac85e3646fa83abade1663f1cce": {
          "model_module": "@jupyter-widgets/base",
          "model_name": "LayoutModel",
          "model_module_version": "1.2.0",
          "state": {
            "_model_module": "@jupyter-widgets/base",
            "_model_module_version": "1.2.0",
            "_model_name": "LayoutModel",
            "_view_count": null,
            "_view_module": "@jupyter-widgets/base",
            "_view_module_version": "1.2.0",
            "_view_name": "LayoutView",
            "align_content": null,
            "align_items": null,
            "align_self": null,
            "border": null,
            "bottom": null,
            "display": null,
            "flex": null,
            "flex_flow": null,
            "grid_area": null,
            "grid_auto_columns": null,
            "grid_auto_flow": null,
            "grid_auto_rows": null,
            "grid_column": null,
            "grid_gap": null,
            "grid_row": null,
            "grid_template_areas": null,
            "grid_template_columns": null,
            "grid_template_rows": null,
            "height": null,
            "justify_content": null,
            "justify_items": null,
            "left": null,
            "margin": null,
            "max_height": null,
            "max_width": null,
            "min_height": null,
            "min_width": null,
            "object_fit": null,
            "object_position": null,
            "order": null,
            "overflow": null,
            "overflow_x": null,
            "overflow_y": null,
            "padding": null,
            "right": null,
            "top": null,
            "visibility": null,
            "width": "70%"
          }
        },
        "0dbb4bc3c4a24cdbba14e69a80908af3": {
          "model_module": "@jupyter-widgets/controls",
          "model_name": "DescriptionStyleModel",
          "model_module_version": "1.5.0",
          "state": {
            "_model_module": "@jupyter-widgets/controls",
            "_model_module_version": "1.5.0",
            "_model_name": "DescriptionStyleModel",
            "_view_count": null,
            "_view_module": "@jupyter-widgets/base",
            "_view_module_version": "1.2.0",
            "_view_name": "StyleView",
            "description_width": ""
          }
        },
        "cef41c7976584b9099c3fa4416251d48": {
          "model_module": "@jupyter-widgets/controls",
          "model_name": "TextareaModel",
          "model_module_version": "1.5.0",
          "state": {
            "_dom_classes": [],
            "_model_module": "@jupyter-widgets/controls",
            "_model_module_version": "1.5.0",
            "_model_name": "TextareaModel",
            "_view_count": null,
            "_view_module": "@jupyter-widgets/controls",
            "_view_module_version": "1.5.0",
            "_view_name": "TextareaView",
            "continuous_update": true,
            "description": "Feedback:",
            "description_tooltip": null,
            "disabled": false,
            "layout": "IPY_MODEL_8b9817b2c98548539fd16fc9bf18613f",
            "placeholder": "​",
            "rows": null,
            "style": "IPY_MODEL_ff758903ae71490294137fbc0bfbb85f",
            "value": ""
          }
        },
        "8b9817b2c98548539fd16fc9bf18613f": {
          "model_module": "@jupyter-widgets/base",
          "model_name": "LayoutModel",
          "model_module_version": "1.2.0",
          "state": {
            "_model_module": "@jupyter-widgets/base",
            "_model_module_version": "1.2.0",
            "_model_name": "LayoutModel",
            "_view_count": null,
            "_view_module": "@jupyter-widgets/base",
            "_view_module_version": "1.2.0",
            "_view_name": "LayoutView",
            "align_content": null,
            "align_items": null,
            "align_self": null,
            "border": null,
            "bottom": null,
            "display": null,
            "flex": null,
            "flex_flow": null,
            "grid_area": null,
            "grid_auto_columns": null,
            "grid_auto_flow": null,
            "grid_auto_rows": null,
            "grid_column": null,
            "grid_gap": null,
            "grid_row": null,
            "grid_template_areas": null,
            "grid_template_columns": null,
            "grid_template_rows": null,
            "height": "100px",
            "justify_content": null,
            "justify_items": null,
            "left": null,
            "margin": null,
            "max_height": null,
            "max_width": null,
            "min_height": null,
            "min_width": null,
            "object_fit": null,
            "object_position": null,
            "order": null,
            "overflow": null,
            "overflow_x": null,
            "overflow_y": null,
            "padding": null,
            "right": null,
            "top": null,
            "visibility": null,
            "width": "70%"
          }
        },
        "ff758903ae71490294137fbc0bfbb85f": {
          "model_module": "@jupyter-widgets/controls",
          "model_name": "DescriptionStyleModel",
          "model_module_version": "1.5.0",
          "state": {
            "_model_module": "@jupyter-widgets/controls",
            "_model_module_version": "1.5.0",
            "_model_name": "DescriptionStyleModel",
            "_view_count": null,
            "_view_module": "@jupyter-widgets/base",
            "_view_module_version": "1.2.0",
            "_view_name": "StyleView",
            "description_width": ""
          }
        },
        "2375dc884bfd419b8d73cb2cee374339": {
          "model_module": "@jupyter-widgets/controls",
          "model_name": "ButtonModel",
          "model_module_version": "1.5.0",
          "state": {
            "_dom_classes": [],
            "_model_module": "@jupyter-widgets/controls",
            "_model_module_version": "1.5.0",
            "_model_name": "ButtonModel",
            "_view_count": null,
            "_view_module": "@jupyter-widgets/controls",
            "_view_module_version": "1.5.0",
            "_view_name": "ButtonView",
            "button_style": "",
            "description": "Submit Feedback",
            "disabled": false,
            "icon": "",
            "layout": "IPY_MODEL_7d5547e152034ea6a6b1926abf620c85",
            "style": "IPY_MODEL_06eef21d5ead450c9db29e66c09386fa",
            "tooltip": ""
          }
        },
        "7d5547e152034ea6a6b1926abf620c85": {
          "model_module": "@jupyter-widgets/base",
          "model_name": "LayoutModel",
          "model_module_version": "1.2.0",
          "state": {
            "_model_module": "@jupyter-widgets/base",
            "_model_module_version": "1.2.0",
            "_model_name": "LayoutModel",
            "_view_count": null,
            "_view_module": "@jupyter-widgets/base",
            "_view_module_version": "1.2.0",
            "_view_name": "LayoutView",
            "align_content": null,
            "align_items": null,
            "align_self": null,
            "border": null,
            "bottom": null,
            "display": null,
            "flex": null,
            "flex_flow": null,
            "grid_area": null,
            "grid_auto_columns": null,
            "grid_auto_flow": null,
            "grid_auto_rows": null,
            "grid_column": null,
            "grid_gap": null,
            "grid_row": null,
            "grid_template_areas": null,
            "grid_template_columns": null,
            "grid_template_rows": null,
            "height": null,
            "justify_content": null,
            "justify_items": null,
            "left": null,
            "margin": "20px 0 20px 0",
            "max_height": null,
            "max_width": null,
            "min_height": null,
            "min_width": null,
            "object_fit": null,
            "object_position": null,
            "order": null,
            "overflow": null,
            "overflow_x": null,
            "overflow_y": null,
            "padding": null,
            "right": null,
            "top": null,
            "visibility": null,
            "width": null
          }
        },
        "06eef21d5ead450c9db29e66c09386fa": {
          "model_module": "@jupyter-widgets/controls",
          "model_name": "ButtonStyleModel",
          "model_module_version": "1.5.0",
          "state": {
            "_model_module": "@jupyter-widgets/controls",
            "_model_module_version": "1.5.0",
            "_model_name": "ButtonStyleModel",
            "_view_count": null,
            "_view_module": "@jupyter-widgets/base",
            "_view_module_version": "1.2.0",
            "_view_name": "StyleView",
            "button_color": "#4CAF50",
            "font_weight": ""
          }
        },
        "f6ddf3001f2240348dcaf070238518c8": {
          "model_module": "@jupyter-widgets/controls",
          "model_name": "TextareaModel",
          "model_module_version": "1.5.0",
          "state": {
            "_dom_classes": [],
            "_model_module": "@jupyter-widgets/controls",
            "_model_module_version": "1.5.0",
            "_model_name": "TextareaModel",
            "_view_count": null,
            "_view_module": "@jupyter-widgets/controls",
            "_view_module_version": "1.5.0",
            "_view_name": "TextareaView",
            "continuous_update": true,
            "description": "Previous Feedbacks:",
            "description_tooltip": null,
            "disabled": true,
            "layout": "IPY_MODEL_a0e8926323fb4e48bc3653110f044c3c",
            "placeholder": "​",
            "rows": null,
            "style": "IPY_MODEL_495ff8fdfd3844468782114a138a77fa",
            "value": "Email: ssss\nFeedback: aaaaaaaa\n----------------------------------------\nEmail: af\nFeedback: f\n----------------------------------------\nEmail: f\nFeedback: ff\n----------------------------------------"
          }
        },
        "a0e8926323fb4e48bc3653110f044c3c": {
          "model_module": "@jupyter-widgets/base",
          "model_name": "LayoutModel",
          "model_module_version": "1.2.0",
          "state": {
            "_model_module": "@jupyter-widgets/base",
            "_model_module_version": "1.2.0",
            "_model_name": "LayoutModel",
            "_view_count": null,
            "_view_module": "@jupyter-widgets/base",
            "_view_module_version": "1.2.0",
            "_view_name": "LayoutView",
            "align_content": null,
            "align_items": null,
            "align_self": null,
            "border": null,
            "bottom": null,
            "display": null,
            "flex": null,
            "flex_flow": null,
            "grid_area": null,
            "grid_auto_columns": null,
            "grid_auto_flow": null,
            "grid_auto_rows": null,
            "grid_column": null,
            "grid_gap": null,
            "grid_row": null,
            "grid_template_areas": null,
            "grid_template_columns": null,
            "grid_template_rows": null,
            "height": "300px",
            "justify_content": null,
            "justify_items": null,
            "left": null,
            "margin": null,
            "max_height": null,
            "max_width": null,
            "min_height": null,
            "min_width": null,
            "object_fit": null,
            "object_position": null,
            "order": null,
            "overflow": null,
            "overflow_x": null,
            "overflow_y": null,
            "padding": null,
            "right": null,
            "top": null,
            "visibility": null,
            "width": "70%"
          }
        },
        "495ff8fdfd3844468782114a138a77fa": {
          "model_module": "@jupyter-widgets/controls",
          "model_name": "DescriptionStyleModel",
          "model_module_version": "1.5.0",
          "state": {
            "_model_module": "@jupyter-widgets/controls",
            "_model_module_version": "1.5.0",
            "_model_name": "DescriptionStyleModel",
            "_view_count": null,
            "_view_module": "@jupyter-widgets/base",
            "_view_module_version": "1.2.0",
            "_view_name": "StyleView",
            "description_width": ""
          }
        },
        "0385f7a1c7ea442eab2b9d548fe32442": {
          "model_module": "@jupyter-widgets/controls",
          "model_name": "TextareaModel",
          "model_module_version": "1.5.0",
          "state": {
            "_dom_classes": [],
            "_model_module": "@jupyter-widgets/controls",
            "_model_module_version": "1.5.0",
            "_model_name": "TextareaModel",
            "_view_count": null,
            "_view_module": "@jupyter-widgets/controls",
            "_view_module_version": "1.5.0",
            "_view_name": "TextareaView",
            "continuous_update": true,
            "description": "Enter Job Description:",
            "description_tooltip": null,
            "disabled": false,
            "layout": "IPY_MODEL_aeab581f4f7a42a59dde4b6e468b2a74",
            "placeholder": "​",
            "rows": null,
            "style": "IPY_MODEL_bfbebb9c7df8490d92ab90eec7dc961d",
            "value": ""
          }
        },
        "aeab581f4f7a42a59dde4b6e468b2a74": {
          "model_module": "@jupyter-widgets/base",
          "model_name": "LayoutModel",
          "model_module_version": "1.2.0",
          "state": {
            "_model_module": "@jupyter-widgets/base",
            "_model_module_version": "1.2.0",
            "_model_name": "LayoutModel",
            "_view_count": null,
            "_view_module": "@jupyter-widgets/base",
            "_view_module_version": "1.2.0",
            "_view_name": "LayoutView",
            "align_content": null,
            "align_items": null,
            "align_self": null,
            "border": null,
            "bottom": null,
            "display": null,
            "flex": null,
            "flex_flow": null,
            "grid_area": null,
            "grid_auto_columns": null,
            "grid_auto_flow": null,
            "grid_auto_rows": null,
            "grid_column": null,
            "grid_gap": null,
            "grid_row": null,
            "grid_template_areas": null,
            "grid_template_columns": null,
            "grid_template_rows": null,
            "height": "200px",
            "justify_content": null,
            "justify_items": null,
            "left": null,
            "margin": null,
            "max_height": null,
            "max_width": null,
            "min_height": null,
            "min_width": null,
            "object_fit": null,
            "object_position": null,
            "order": null,
            "overflow": null,
            "overflow_x": null,
            "overflow_y": null,
            "padding": null,
            "right": null,
            "top": null,
            "visibility": null,
            "width": "70%"
          }
        },
        "bfbebb9c7df8490d92ab90eec7dc961d": {
          "model_module": "@jupyter-widgets/controls",
          "model_name": "DescriptionStyleModel",
          "model_module_version": "1.5.0",
          "state": {
            "_model_module": "@jupyter-widgets/controls",
            "_model_module_version": "1.5.0",
            "_model_name": "DescriptionStyleModel",
            "_view_count": null,
            "_view_module": "@jupyter-widgets/base",
            "_view_module_version": "1.2.0",
            "_view_name": "StyleView",
            "description_width": ""
          }
        },
        "385b5d99954d4ee9a4d316c8639af51f": {
          "model_module": "@jupyter-widgets/controls",
          "model_name": "ButtonModel",
          "model_module_version": "1.5.0",
          "state": {
            "_dom_classes": [],
            "_model_module": "@jupyter-widgets/controls",
            "_model_module_version": "1.5.0",
            "_model_name": "ButtonModel",
            "_view_count": null,
            "_view_module": "@jupyter-widgets/controls",
            "_view_module_version": "1.5.0",
            "_view_name": "ButtonView",
            "button_style": "",
            "description": "Ask for Job Position Recommendation",
            "disabled": false,
            "icon": "",
            "layout": "IPY_MODEL_44731d06809249359f8a018237277a9a",
            "style": "IPY_MODEL_8649973abcaf492980c3492f6c792ad7",
            "tooltip": ""
          }
        },
        "44731d06809249359f8a018237277a9a": {
          "model_module": "@jupyter-widgets/base",
          "model_name": "LayoutModel",
          "model_module_version": "1.2.0",
          "state": {
            "_model_module": "@jupyter-widgets/base",
            "_model_module_version": "1.2.0",
            "_model_name": "LayoutModel",
            "_view_count": null,
            "_view_module": "@jupyter-widgets/base",
            "_view_module_version": "1.2.0",
            "_view_name": "LayoutView",
            "align_content": null,
            "align_items": null,
            "align_self": null,
            "border": null,
            "bottom": null,
            "display": null,
            "flex": null,
            "flex_flow": null,
            "grid_area": null,
            "grid_auto_columns": null,
            "grid_auto_flow": null,
            "grid_auto_rows": null,
            "grid_column": null,
            "grid_gap": null,
            "grid_row": null,
            "grid_template_areas": null,
            "grid_template_columns": null,
            "grid_template_rows": null,
            "height": null,
            "justify_content": null,
            "justify_items": null,
            "left": null,
            "margin": "20px 0 20px 0",
            "max_height": null,
            "max_width": null,
            "min_height": null,
            "min_width": null,
            "object_fit": null,
            "object_position": null,
            "order": null,
            "overflow": null,
            "overflow_x": null,
            "overflow_y": null,
            "padding": null,
            "right": null,
            "top": null,
            "visibility": null,
            "width": null
          }
        },
        "8649973abcaf492980c3492f6c792ad7": {
          "model_module": "@jupyter-widgets/controls",
          "model_name": "ButtonStyleModel",
          "model_module_version": "1.5.0",
          "state": {
            "_model_module": "@jupyter-widgets/controls",
            "_model_module_version": "1.5.0",
            "_model_name": "ButtonStyleModel",
            "_view_count": null,
            "_view_module": "@jupyter-widgets/base",
            "_view_module_version": "1.2.0",
            "_view_name": "StyleView",
            "button_color": "#7CF5FF",
            "font_weight": ""
          }
        },
        "b122cc2db1db4ae78c4235eb3cec5432": {
          "model_module": "@jupyter-widgets/controls",
          "model_name": "TextareaModel",
          "model_module_version": "1.5.0",
          "state": {
            "_dom_classes": [],
            "_model_module": "@jupyter-widgets/controls",
            "_model_module_version": "1.5.0",
            "_model_name": "TextareaModel",
            "_view_count": null,
            "_view_module": "@jupyter-widgets/controls",
            "_view_module_version": "1.5.0",
            "_view_name": "TextareaView",
            "continuous_update": true,
            "description": "Output:",
            "description_tooltip": null,
            "disabled": false,
            "layout": "IPY_MODEL_0f8a8df3ecae44848b8d38658778d78a",
            "placeholder": "​",
            "rows": null,
            "style": "IPY_MODEL_a65f1b2c628a4dd08218b7e201a242e9",
            "value": ""
          }
        },
        "0f8a8df3ecae44848b8d38658778d78a": {
          "model_module": "@jupyter-widgets/base",
          "model_name": "LayoutModel",
          "model_module_version": "1.2.0",
          "state": {
            "_model_module": "@jupyter-widgets/base",
            "_model_module_version": "1.2.0",
            "_model_name": "LayoutModel",
            "_view_count": null,
            "_view_module": "@jupyter-widgets/base",
            "_view_module_version": "1.2.0",
            "_view_name": "LayoutView",
            "align_content": null,
            "align_items": null,
            "align_self": null,
            "border": null,
            "bottom": null,
            "display": null,
            "flex": null,
            "flex_flow": null,
            "grid_area": null,
            "grid_auto_columns": null,
            "grid_auto_flow": null,
            "grid_auto_rows": null,
            "grid_column": null,
            "grid_gap": null,
            "grid_row": null,
            "grid_template_areas": null,
            "grid_template_columns": null,
            "grid_template_rows": null,
            "height": "200px",
            "justify_content": null,
            "justify_items": null,
            "left": null,
            "margin": null,
            "max_height": null,
            "max_width": null,
            "min_height": null,
            "min_width": null,
            "object_fit": null,
            "object_position": null,
            "order": null,
            "overflow": null,
            "overflow_x": null,
            "overflow_y": null,
            "padding": null,
            "right": null,
            "top": null,
            "visibility": null,
            "width": "70%"
          }
        },
        "a65f1b2c628a4dd08218b7e201a242e9": {
          "model_module": "@jupyter-widgets/controls",
          "model_name": "DescriptionStyleModel",
          "model_module_version": "1.5.0",
          "state": {
            "_model_module": "@jupyter-widgets/controls",
            "_model_module_version": "1.5.0",
            "_model_name": "DescriptionStyleModel",
            "_view_count": null,
            "_view_module": "@jupyter-widgets/base",
            "_view_module_version": "1.2.0",
            "_view_name": "StyleView",
            "description_width": ""
          }
        },
        "8179b6073d664be3876494d89dbfadeb": {
          "model_module": "@jupyter-widgets/controls",
          "model_name": "ButtonModel",
          "model_module_version": "1.5.0",
          "state": {
            "_dom_classes": [],
            "_model_module": "@jupyter-widgets/controls",
            "_model_module_version": "1.5.0",
            "_model_name": "ButtonModel",
            "_view_count": null,
            "_view_module": "@jupyter-widgets/controls",
            "_view_module_version": "1.5.0",
            "_view_name": "ButtonView",
            "button_style": "",
            "description": "Refresh",
            "disabled": false,
            "icon": "",
            "layout": "IPY_MODEL_faa9b53fe7de4f7e91af135a35855274",
            "style": "IPY_MODEL_7e080b1d59a549d6963a8ea5feb5798c",
            "tooltip": ""
          }
        },
        "faa9b53fe7de4f7e91af135a35855274": {
          "model_module": "@jupyter-widgets/base",
          "model_name": "LayoutModel",
          "model_module_version": "1.2.0",
          "state": {
            "_model_module": "@jupyter-widgets/base",
            "_model_module_version": "1.2.0",
            "_model_name": "LayoutModel",
            "_view_count": null,
            "_view_module": "@jupyter-widgets/base",
            "_view_module_version": "1.2.0",
            "_view_name": "LayoutView",
            "align_content": null,
            "align_items": null,
            "align_self": null,
            "border": null,
            "bottom": null,
            "display": null,
            "flex": null,
            "flex_flow": null,
            "grid_area": null,
            "grid_auto_columns": null,
            "grid_auto_flow": null,
            "grid_auto_rows": null,
            "grid_column": null,
            "grid_gap": null,
            "grid_row": null,
            "grid_template_areas": null,
            "grid_template_columns": null,
            "grid_template_rows": null,
            "height": null,
            "justify_content": null,
            "justify_items": null,
            "left": null,
            "margin": "20px 0 20px 0",
            "max_height": null,
            "max_width": null,
            "min_height": null,
            "min_width": null,
            "object_fit": null,
            "object_position": null,
            "order": null,
            "overflow": null,
            "overflow_x": null,
            "overflow_y": null,
            "padding": null,
            "right": null,
            "top": null,
            "visibility": null,
            "width": null
          }
        },
        "7e080b1d59a549d6963a8ea5feb5798c": {
          "model_module": "@jupyter-widgets/controls",
          "model_name": "ButtonStyleModel",
          "model_module_version": "1.5.0",
          "state": {
            "_model_module": "@jupyter-widgets/controls",
            "_model_module_version": "1.5.0",
            "_model_name": "ButtonStyleModel",
            "_view_count": null,
            "_view_module": "@jupyter-widgets/base",
            "_view_module_version": "1.2.0",
            "_view_name": "StyleView",
            "button_color": "#FFFBE6",
            "font_weight": ""
          }
        }
      }
    }
  },
  "cells": [
    {
      "cell_type": "code",
      "execution_count": 1,
      "metadata": {
        "colab": {
          "base_uri": "https://localhost:8080/"
        },
        "id": "mKz9ssK2OVzR",
        "outputId": "fc2cdbdf-2fd6-4d48-9006-a6941fbe94ef"
      },
      "outputs": [
        {
          "output_type": "stream",
          "name": "stdout",
          "text": [
            "Mounted at /content/drive/\n"
          ]
        }
      ],
      "source": [
        "from google.colab import drive\n",
        "drive.mount('/content/drive/')"
      ]
    },
    {
      "cell_type": "markdown",
      "source": [
        "This code imports various libraries and tools used for natural language processing (NLP) and text analysis. `pandas` and `numpy` help with data manipulation and numerical operations. `string` provides access to common string operations, while `nltk` (Natural Language Toolkit) is used for tokenizing text (breaking it into words), lemmatizing (reducing words to their base forms), and filtering out common stop words (e.g., \"the\", \"and\"). `wordnet` is a lexical database for finding word meanings and relationships. `pos_tag` tags words with their part of speech (like noun or verb). The `TfidfVectorizer` converts text into numerical features based on word frequency and importance, and `cosine_similarity` measures how similar two text documents are based on these features."
      ],
      "metadata": {
        "id": "DXhd6TXEBWcX"
      }
    },
    {
      "cell_type": "code",
      "source": [
        "import pandas as pd\n",
        "import numpy as np\n",
        "import string\n",
        "from nltk.tokenize import word_tokenize\n",
        "from nltk.stem import WordNetLemmatizer\n",
        "from nltk.corpus import stopwords\n",
        "from nltk.corpus import wordnet\n",
        "from nltk import pos_tag\n",
        "from sklearn.feature_extraction.text import TfidfVectorizer\n",
        "from sklearn.metrics.pairwise import cosine_similarity"
      ],
      "metadata": {
        "id": "xwni_WCSOznX"
      },
      "execution_count": 2,
      "outputs": []
    },
    {
      "cell_type": "code",
      "source": [
        "df1 = pd.read_excel(\"/content/drive/MyDrive/LLM phd/Job Description.XLSX\")"
      ],
      "metadata": {
        "id": "ZUPsNi3pO60e"
      },
      "execution_count": 3,
      "outputs": []
    },
    {
      "cell_type": "code",
      "source": [
        "df1.head()"
      ],
      "metadata": {
        "colab": {
          "base_uri": "https://localhost:8080/",
          "height": 206
        },
        "id": "dIbu_VFLPEF4",
        "outputId": "58e7b3b2-60ae-463e-a17d-f6e95d6d968c"
      },
      "execution_count": 7,
      "outputs": [
        {
          "output_type": "execute_result",
          "data": {
            "text/plain": [
              "                              Job Title  \\\n",
              "0  Business Intelligence (BI) Developer   \n",
              "1  Business Intelligence (BI) Developer   \n",
              "2  Business Intelligence (BI) Developer   \n",
              "3  Business Intelligence (BI) Developer   \n",
              "4  Business Intelligence (BI) Developer   \n",
              "\n",
              "                                     Job Description  \n",
              "0  Design, develop, and maintain BI solutions by ...  \n",
              "1  Develop and maintain business intelligence sol...  \n",
              "2  Design, implement, and maintain BI solutions b...  \n",
              "3  Develop and optimize BI solutions by analyzing...  \n",
              "4  Design, develop, and deploy BI solutions by ga...  "
            ],
            "text/html": [
              "\n",
              "  <div id=\"df-6b1c7506-c999-4ee1-955b-18ebbf2a61fc\" class=\"colab-df-container\">\n",
              "    <div>\n",
              "<style scoped>\n",
              "    .dataframe tbody tr th:only-of-type {\n",
              "        vertical-align: middle;\n",
              "    }\n",
              "\n",
              "    .dataframe tbody tr th {\n",
              "        vertical-align: top;\n",
              "    }\n",
              "\n",
              "    .dataframe thead th {\n",
              "        text-align: right;\n",
              "    }\n",
              "</style>\n",
              "<table border=\"1\" class=\"dataframe\">\n",
              "  <thead>\n",
              "    <tr style=\"text-align: right;\">\n",
              "      <th></th>\n",
              "      <th>Job Title</th>\n",
              "      <th>Job Description</th>\n",
              "    </tr>\n",
              "  </thead>\n",
              "  <tbody>\n",
              "    <tr>\n",
              "      <th>0</th>\n",
              "      <td>Business Intelligence (BI) Developer</td>\n",
              "      <td>Design, develop, and maintain BI solutions by ...</td>\n",
              "    </tr>\n",
              "    <tr>\n",
              "      <th>1</th>\n",
              "      <td>Business Intelligence (BI) Developer</td>\n",
              "      <td>Develop and maintain business intelligence sol...</td>\n",
              "    </tr>\n",
              "    <tr>\n",
              "      <th>2</th>\n",
              "      <td>Business Intelligence (BI) Developer</td>\n",
              "      <td>Design, implement, and maintain BI solutions b...</td>\n",
              "    </tr>\n",
              "    <tr>\n",
              "      <th>3</th>\n",
              "      <td>Business Intelligence (BI) Developer</td>\n",
              "      <td>Develop and optimize BI solutions by analyzing...</td>\n",
              "    </tr>\n",
              "    <tr>\n",
              "      <th>4</th>\n",
              "      <td>Business Intelligence (BI) Developer</td>\n",
              "      <td>Design, develop, and deploy BI solutions by ga...</td>\n",
              "    </tr>\n",
              "  </tbody>\n",
              "</table>\n",
              "</div>\n",
              "    <div class=\"colab-df-buttons\">\n",
              "\n",
              "  <div class=\"colab-df-container\">\n",
              "    <button class=\"colab-df-convert\" onclick=\"convertToInteractive('df-6b1c7506-c999-4ee1-955b-18ebbf2a61fc')\"\n",
              "            title=\"Convert this dataframe to an interactive table.\"\n",
              "            style=\"display:none;\">\n",
              "\n",
              "  <svg xmlns=\"http://www.w3.org/2000/svg\" height=\"24px\" viewBox=\"0 -960 960 960\">\n",
              "    <path d=\"M120-120v-720h720v720H120Zm60-500h600v-160H180v160Zm220 220h160v-160H400v160Zm0 220h160v-160H400v160ZM180-400h160v-160H180v160Zm440 0h160v-160H620v160ZM180-180h160v-160H180v160Zm440 0h160v-160H620v160Z\"/>\n",
              "  </svg>\n",
              "    </button>\n",
              "\n",
              "  <style>\n",
              "    .colab-df-container {\n",
              "      display:flex;\n",
              "      gap: 12px;\n",
              "    }\n",
              "\n",
              "    .colab-df-convert {\n",
              "      background-color: #E8F0FE;\n",
              "      border: none;\n",
              "      border-radius: 50%;\n",
              "      cursor: pointer;\n",
              "      display: none;\n",
              "      fill: #1967D2;\n",
              "      height: 32px;\n",
              "      padding: 0 0 0 0;\n",
              "      width: 32px;\n",
              "    }\n",
              "\n",
              "    .colab-df-convert:hover {\n",
              "      background-color: #E2EBFA;\n",
              "      box-shadow: 0px 1px 2px rgba(60, 64, 67, 0.3), 0px 1px 3px 1px rgba(60, 64, 67, 0.15);\n",
              "      fill: #174EA6;\n",
              "    }\n",
              "\n",
              "    .colab-df-buttons div {\n",
              "      margin-bottom: 4px;\n",
              "    }\n",
              "\n",
              "    [theme=dark] .colab-df-convert {\n",
              "      background-color: #3B4455;\n",
              "      fill: #D2E3FC;\n",
              "    }\n",
              "\n",
              "    [theme=dark] .colab-df-convert:hover {\n",
              "      background-color: #434B5C;\n",
              "      box-shadow: 0px 1px 3px 1px rgba(0, 0, 0, 0.15);\n",
              "      filter: drop-shadow(0px 1px 2px rgba(0, 0, 0, 0.3));\n",
              "      fill: #FFFFFF;\n",
              "    }\n",
              "  </style>\n",
              "\n",
              "    <script>\n",
              "      const buttonEl =\n",
              "        document.querySelector('#df-6b1c7506-c999-4ee1-955b-18ebbf2a61fc button.colab-df-convert');\n",
              "      buttonEl.style.display =\n",
              "        google.colab.kernel.accessAllowed ? 'block' : 'none';\n",
              "\n",
              "      async function convertToInteractive(key) {\n",
              "        const element = document.querySelector('#df-6b1c7506-c999-4ee1-955b-18ebbf2a61fc');\n",
              "        const dataTable =\n",
              "          await google.colab.kernel.invokeFunction('convertToInteractive',\n",
              "                                                    [key], {});\n",
              "        if (!dataTable) return;\n",
              "\n",
              "        const docLinkHtml = 'Like what you see? Visit the ' +\n",
              "          '<a target=\"_blank\" href=https://colab.research.google.com/notebooks/data_table.ipynb>data table notebook</a>'\n",
              "          + ' to learn more about interactive tables.';\n",
              "        element.innerHTML = '';\n",
              "        dataTable['output_type'] = 'display_data';\n",
              "        await google.colab.output.renderOutput(dataTable, element);\n",
              "        const docLink = document.createElement('div');\n",
              "        docLink.innerHTML = docLinkHtml;\n",
              "        element.appendChild(docLink);\n",
              "      }\n",
              "    </script>\n",
              "  </div>\n",
              "\n",
              "\n",
              "<div id=\"df-6725ae39-b8f1-43d6-a34f-0827acfffd6e\">\n",
              "  <button class=\"colab-df-quickchart\" onclick=\"quickchart('df-6725ae39-b8f1-43d6-a34f-0827acfffd6e')\"\n",
              "            title=\"Suggest charts\"\n",
              "            style=\"display:none;\">\n",
              "\n",
              "<svg xmlns=\"http://www.w3.org/2000/svg\" height=\"24px\"viewBox=\"0 0 24 24\"\n",
              "     width=\"24px\">\n",
              "    <g>\n",
              "        <path d=\"M19 3H5c-1.1 0-2 .9-2 2v14c0 1.1.9 2 2 2h14c1.1 0 2-.9 2-2V5c0-1.1-.9-2-2-2zM9 17H7v-7h2v7zm4 0h-2V7h2v10zm4 0h-2v-4h2v4z\"/>\n",
              "    </g>\n",
              "</svg>\n",
              "  </button>\n",
              "\n",
              "<style>\n",
              "  .colab-df-quickchart {\n",
              "      --bg-color: #E8F0FE;\n",
              "      --fill-color: #1967D2;\n",
              "      --hover-bg-color: #E2EBFA;\n",
              "      --hover-fill-color: #174EA6;\n",
              "      --disabled-fill-color: #AAA;\n",
              "      --disabled-bg-color: #DDD;\n",
              "  }\n",
              "\n",
              "  [theme=dark] .colab-df-quickchart {\n",
              "      --bg-color: #3B4455;\n",
              "      --fill-color: #D2E3FC;\n",
              "      --hover-bg-color: #434B5C;\n",
              "      --hover-fill-color: #FFFFFF;\n",
              "      --disabled-bg-color: #3B4455;\n",
              "      --disabled-fill-color: #666;\n",
              "  }\n",
              "\n",
              "  .colab-df-quickchart {\n",
              "    background-color: var(--bg-color);\n",
              "    border: none;\n",
              "    border-radius: 50%;\n",
              "    cursor: pointer;\n",
              "    display: none;\n",
              "    fill: var(--fill-color);\n",
              "    height: 32px;\n",
              "    padding: 0;\n",
              "    width: 32px;\n",
              "  }\n",
              "\n",
              "  .colab-df-quickchart:hover {\n",
              "    background-color: var(--hover-bg-color);\n",
              "    box-shadow: 0 1px 2px rgba(60, 64, 67, 0.3), 0 1px 3px 1px rgba(60, 64, 67, 0.15);\n",
              "    fill: var(--button-hover-fill-color);\n",
              "  }\n",
              "\n",
              "  .colab-df-quickchart-complete:disabled,\n",
              "  .colab-df-quickchart-complete:disabled:hover {\n",
              "    background-color: var(--disabled-bg-color);\n",
              "    fill: var(--disabled-fill-color);\n",
              "    box-shadow: none;\n",
              "  }\n",
              "\n",
              "  .colab-df-spinner {\n",
              "    border: 2px solid var(--fill-color);\n",
              "    border-color: transparent;\n",
              "    border-bottom-color: var(--fill-color);\n",
              "    animation:\n",
              "      spin 1s steps(1) infinite;\n",
              "  }\n",
              "\n",
              "  @keyframes spin {\n",
              "    0% {\n",
              "      border-color: transparent;\n",
              "      border-bottom-color: var(--fill-color);\n",
              "      border-left-color: var(--fill-color);\n",
              "    }\n",
              "    20% {\n",
              "      border-color: transparent;\n",
              "      border-left-color: var(--fill-color);\n",
              "      border-top-color: var(--fill-color);\n",
              "    }\n",
              "    30% {\n",
              "      border-color: transparent;\n",
              "      border-left-color: var(--fill-color);\n",
              "      border-top-color: var(--fill-color);\n",
              "      border-right-color: var(--fill-color);\n",
              "    }\n",
              "    40% {\n",
              "      border-color: transparent;\n",
              "      border-right-color: var(--fill-color);\n",
              "      border-top-color: var(--fill-color);\n",
              "    }\n",
              "    60% {\n",
              "      border-color: transparent;\n",
              "      border-right-color: var(--fill-color);\n",
              "    }\n",
              "    80% {\n",
              "      border-color: transparent;\n",
              "      border-right-color: var(--fill-color);\n",
              "      border-bottom-color: var(--fill-color);\n",
              "    }\n",
              "    90% {\n",
              "      border-color: transparent;\n",
              "      border-bottom-color: var(--fill-color);\n",
              "    }\n",
              "  }\n",
              "</style>\n",
              "\n",
              "  <script>\n",
              "    async function quickchart(key) {\n",
              "      const quickchartButtonEl =\n",
              "        document.querySelector('#' + key + ' button');\n",
              "      quickchartButtonEl.disabled = true;  // To prevent multiple clicks.\n",
              "      quickchartButtonEl.classList.add('colab-df-spinner');\n",
              "      try {\n",
              "        const charts = await google.colab.kernel.invokeFunction(\n",
              "            'suggestCharts', [key], {});\n",
              "      } catch (error) {\n",
              "        console.error('Error during call to suggestCharts:', error);\n",
              "      }\n",
              "      quickchartButtonEl.classList.remove('colab-df-spinner');\n",
              "      quickchartButtonEl.classList.add('colab-df-quickchart-complete');\n",
              "    }\n",
              "    (() => {\n",
              "      let quickchartButtonEl =\n",
              "        document.querySelector('#df-6725ae39-b8f1-43d6-a34f-0827acfffd6e button');\n",
              "      quickchartButtonEl.style.display =\n",
              "        google.colab.kernel.accessAllowed ? 'block' : 'none';\n",
              "    })();\n",
              "  </script>\n",
              "</div>\n",
              "\n",
              "    </div>\n",
              "  </div>\n"
            ],
            "application/vnd.google.colaboratory.intrinsic+json": {
              "type": "dataframe",
              "variable_name": "df1",
              "summary": "{\n  \"name\": \"df1\",\n  \"rows\": 180,\n  \"fields\": [\n    {\n      \"column\": \"Job Title\",\n      \"properties\": {\n        \"dtype\": \"category\",\n        \"num_unique_values\": 18,\n        \"samples\": [\n          \"Business Intelligence (BI) Developer\",\n          \"Big Data Engineer\",\n          \"Systems Engineer\"\n        ],\n        \"semantic_type\": \"\",\n        \"description\": \"\"\n      }\n    },\n    {\n      \"column\": \"Job Description\",\n      \"properties\": {\n        \"dtype\": \"string\",\n        \"num_unique_values\": 180,\n        \"samples\": [\n          \"As a Big Data Engineer, you will play a crucial role in developing and optimizing our big data systems to ensure they are efficient, scalable, and capable of supporting our data-driven initiatives. You will work on data pipelines, real-time data processing, and storage solutions, collaborating closely with data scientists and engineers to ensure seamless integration. A degree in Computer Science or a related field is required, with expertise in big data technologies like Hadoop, Spark, and Kafka. Proficiency in programming languages such as Python, Java, or Scala is essential. Experience with cloud computing platforms like AWS, Azure, or Google Cloud is preferred. Strong problem-solving skills, attention to detail, and the ability to learn new technologies quickly will be key to your success.\",\n          \"Create engaging AR experiences by developing applications for smartphones, tablets, and AR glasses. Utilize AR development platforms such as Unity, ARKit, and ARCore to build and optimize AR content. Work with designers and engineers to integrate AR functionalities into existing products and troubleshoot issues. A degree in Computer Science or a similar field is necessary. Expertise in C# or C++ and hands-on experience with AR development tools are required. Knowledge of 3D modeling, computer vision, and user experience design is essential. Strong analytical skills and the ability to adapt to new technologies are important\",\n          \"Lead cybersecurity initiatives, manage security operations, and ensure the protection of sensitive information across the organization.Leadership in cybersecurity risk management.In-depth knowledge of malware analysis and forensics.Strong ability to design security frameworks for complex environments.Excellent understanding of advanced threat protection techniques.Proven ability to lead and mentor cybersecurity teams.\"\n        ],\n        \"semantic_type\": \"\",\n        \"description\": \"\"\n      }\n    }\n  ]\n}"
            }
          },
          "metadata": {},
          "execution_count": 7
        }
      ]
    },
    {
      "cell_type": "code",
      "source": [
        "df1.head()[\"Job Description\"]"
      ],
      "metadata": {
        "colab": {
          "base_uri": "https://localhost:8080/",
          "height": 241
        },
        "id": "q115Wj9VPR3l",
        "outputId": "58690522-e4d4-42f6-dddb-8161c39d1b4c"
      },
      "execution_count": 6,
      "outputs": [
        {
          "output_type": "execute_result",
          "data": {
            "text/plain": [
              "0    Design, develop, and maintain BI solutions by ...\n",
              "1    Develop and maintain business intelligence sol...\n",
              "2    Design, implement, and maintain BI solutions b...\n",
              "3    Develop and optimize BI solutions by analyzing...\n",
              "4    Design, develop, and deploy BI solutions by ga...\n",
              "Name: Job Description, dtype: object"
            ],
            "text/html": [
              "<div>\n",
              "<style scoped>\n",
              "    .dataframe tbody tr th:only-of-type {\n",
              "        vertical-align: middle;\n",
              "    }\n",
              "\n",
              "    .dataframe tbody tr th {\n",
              "        vertical-align: top;\n",
              "    }\n",
              "\n",
              "    .dataframe thead th {\n",
              "        text-align: right;\n",
              "    }\n",
              "</style>\n",
              "<table border=\"1\" class=\"dataframe\">\n",
              "  <thead>\n",
              "    <tr style=\"text-align: right;\">\n",
              "      <th></th>\n",
              "      <th>Job Description</th>\n",
              "    </tr>\n",
              "  </thead>\n",
              "  <tbody>\n",
              "    <tr>\n",
              "      <th>0</th>\n",
              "      <td>Design, develop, and maintain BI solutions by ...</td>\n",
              "    </tr>\n",
              "    <tr>\n",
              "      <th>1</th>\n",
              "      <td>Develop and maintain business intelligence sol...</td>\n",
              "    </tr>\n",
              "    <tr>\n",
              "      <th>2</th>\n",
              "      <td>Design, implement, and maintain BI solutions b...</td>\n",
              "    </tr>\n",
              "    <tr>\n",
              "      <th>3</th>\n",
              "      <td>Develop and optimize BI solutions by analyzing...</td>\n",
              "    </tr>\n",
              "    <tr>\n",
              "      <th>4</th>\n",
              "      <td>Design, develop, and deploy BI solutions by ga...</td>\n",
              "    </tr>\n",
              "  </tbody>\n",
              "</table>\n",
              "</div><br><label><b>dtype:</b> object</label>"
            ]
          },
          "metadata": {},
          "execution_count": 6
        }
      ]
    },
    {
      "cell_type": "markdown",
      "source": [
        "### Data preparation"
      ],
      "metadata": {
        "id": "hKX8cZ1DBqZw"
      }
    },
    {
      "cell_type": "code",
      "source": [
        "dfp = df1.drop_duplicates(subset='Job Description')\n",
        "dfp.head()"
      ],
      "metadata": {
        "colab": {
          "base_uri": "https://localhost:8080/",
          "height": 206
        },
        "id": "fXJT7ttrP5K1",
        "outputId": "515d9dda-667c-4145-b5cd-7613f5ea861c"
      },
      "execution_count": 8,
      "outputs": [
        {
          "output_type": "execute_result",
          "data": {
            "text/plain": [
              "                              Job Title  \\\n",
              "0  Business Intelligence (BI) Developer   \n",
              "1  Business Intelligence (BI) Developer   \n",
              "2  Business Intelligence (BI) Developer   \n",
              "3  Business Intelligence (BI) Developer   \n",
              "4  Business Intelligence (BI) Developer   \n",
              "\n",
              "                                     Job Description  \n",
              "0  Design, develop, and maintain BI solutions by ...  \n",
              "1  Develop and maintain business intelligence sol...  \n",
              "2  Design, implement, and maintain BI solutions b...  \n",
              "3  Develop and optimize BI solutions by analyzing...  \n",
              "4  Design, develop, and deploy BI solutions by ga...  "
            ],
            "text/html": [
              "\n",
              "  <div id=\"df-05e2654d-f3f3-4794-9f14-3f5608c02dec\" class=\"colab-df-container\">\n",
              "    <div>\n",
              "<style scoped>\n",
              "    .dataframe tbody tr th:only-of-type {\n",
              "        vertical-align: middle;\n",
              "    }\n",
              "\n",
              "    .dataframe tbody tr th {\n",
              "        vertical-align: top;\n",
              "    }\n",
              "\n",
              "    .dataframe thead th {\n",
              "        text-align: right;\n",
              "    }\n",
              "</style>\n",
              "<table border=\"1\" class=\"dataframe\">\n",
              "  <thead>\n",
              "    <tr style=\"text-align: right;\">\n",
              "      <th></th>\n",
              "      <th>Job Title</th>\n",
              "      <th>Job Description</th>\n",
              "    </tr>\n",
              "  </thead>\n",
              "  <tbody>\n",
              "    <tr>\n",
              "      <th>0</th>\n",
              "      <td>Business Intelligence (BI) Developer</td>\n",
              "      <td>Design, develop, and maintain BI solutions by ...</td>\n",
              "    </tr>\n",
              "    <tr>\n",
              "      <th>1</th>\n",
              "      <td>Business Intelligence (BI) Developer</td>\n",
              "      <td>Develop and maintain business intelligence sol...</td>\n",
              "    </tr>\n",
              "    <tr>\n",
              "      <th>2</th>\n",
              "      <td>Business Intelligence (BI) Developer</td>\n",
              "      <td>Design, implement, and maintain BI solutions b...</td>\n",
              "    </tr>\n",
              "    <tr>\n",
              "      <th>3</th>\n",
              "      <td>Business Intelligence (BI) Developer</td>\n",
              "      <td>Develop and optimize BI solutions by analyzing...</td>\n",
              "    </tr>\n",
              "    <tr>\n",
              "      <th>4</th>\n",
              "      <td>Business Intelligence (BI) Developer</td>\n",
              "      <td>Design, develop, and deploy BI solutions by ga...</td>\n",
              "    </tr>\n",
              "  </tbody>\n",
              "</table>\n",
              "</div>\n",
              "    <div class=\"colab-df-buttons\">\n",
              "\n",
              "  <div class=\"colab-df-container\">\n",
              "    <button class=\"colab-df-convert\" onclick=\"convertToInteractive('df-05e2654d-f3f3-4794-9f14-3f5608c02dec')\"\n",
              "            title=\"Convert this dataframe to an interactive table.\"\n",
              "            style=\"display:none;\">\n",
              "\n",
              "  <svg xmlns=\"http://www.w3.org/2000/svg\" height=\"24px\" viewBox=\"0 -960 960 960\">\n",
              "    <path d=\"M120-120v-720h720v720H120Zm60-500h600v-160H180v160Zm220 220h160v-160H400v160Zm0 220h160v-160H400v160ZM180-400h160v-160H180v160Zm440 0h160v-160H620v160ZM180-180h160v-160H180v160Zm440 0h160v-160H620v160Z\"/>\n",
              "  </svg>\n",
              "    </button>\n",
              "\n",
              "  <style>\n",
              "    .colab-df-container {\n",
              "      display:flex;\n",
              "      gap: 12px;\n",
              "    }\n",
              "\n",
              "    .colab-df-convert {\n",
              "      background-color: #E8F0FE;\n",
              "      border: none;\n",
              "      border-radius: 50%;\n",
              "      cursor: pointer;\n",
              "      display: none;\n",
              "      fill: #1967D2;\n",
              "      height: 32px;\n",
              "      padding: 0 0 0 0;\n",
              "      width: 32px;\n",
              "    }\n",
              "\n",
              "    .colab-df-convert:hover {\n",
              "      background-color: #E2EBFA;\n",
              "      box-shadow: 0px 1px 2px rgba(60, 64, 67, 0.3), 0px 1px 3px 1px rgba(60, 64, 67, 0.15);\n",
              "      fill: #174EA6;\n",
              "    }\n",
              "\n",
              "    .colab-df-buttons div {\n",
              "      margin-bottom: 4px;\n",
              "    }\n",
              "\n",
              "    [theme=dark] .colab-df-convert {\n",
              "      background-color: #3B4455;\n",
              "      fill: #D2E3FC;\n",
              "    }\n",
              "\n",
              "    [theme=dark] .colab-df-convert:hover {\n",
              "      background-color: #434B5C;\n",
              "      box-shadow: 0px 1px 3px 1px rgba(0, 0, 0, 0.15);\n",
              "      filter: drop-shadow(0px 1px 2px rgba(0, 0, 0, 0.3));\n",
              "      fill: #FFFFFF;\n",
              "    }\n",
              "  </style>\n",
              "\n",
              "    <script>\n",
              "      const buttonEl =\n",
              "        document.querySelector('#df-05e2654d-f3f3-4794-9f14-3f5608c02dec button.colab-df-convert');\n",
              "      buttonEl.style.display =\n",
              "        google.colab.kernel.accessAllowed ? 'block' : 'none';\n",
              "\n",
              "      async function convertToInteractive(key) {\n",
              "        const element = document.querySelector('#df-05e2654d-f3f3-4794-9f14-3f5608c02dec');\n",
              "        const dataTable =\n",
              "          await google.colab.kernel.invokeFunction('convertToInteractive',\n",
              "                                                    [key], {});\n",
              "        if (!dataTable) return;\n",
              "\n",
              "        const docLinkHtml = 'Like what you see? Visit the ' +\n",
              "          '<a target=\"_blank\" href=https://colab.research.google.com/notebooks/data_table.ipynb>data table notebook</a>'\n",
              "          + ' to learn more about interactive tables.';\n",
              "        element.innerHTML = '';\n",
              "        dataTable['output_type'] = 'display_data';\n",
              "        await google.colab.output.renderOutput(dataTable, element);\n",
              "        const docLink = document.createElement('div');\n",
              "        docLink.innerHTML = docLinkHtml;\n",
              "        element.appendChild(docLink);\n",
              "      }\n",
              "    </script>\n",
              "  </div>\n",
              "\n",
              "\n",
              "<div id=\"df-df419277-9942-4754-ba5a-dfaebee9084a\">\n",
              "  <button class=\"colab-df-quickchart\" onclick=\"quickchart('df-df419277-9942-4754-ba5a-dfaebee9084a')\"\n",
              "            title=\"Suggest charts\"\n",
              "            style=\"display:none;\">\n",
              "\n",
              "<svg xmlns=\"http://www.w3.org/2000/svg\" height=\"24px\"viewBox=\"0 0 24 24\"\n",
              "     width=\"24px\">\n",
              "    <g>\n",
              "        <path d=\"M19 3H5c-1.1 0-2 .9-2 2v14c0 1.1.9 2 2 2h14c1.1 0 2-.9 2-2V5c0-1.1-.9-2-2-2zM9 17H7v-7h2v7zm4 0h-2V7h2v10zm4 0h-2v-4h2v4z\"/>\n",
              "    </g>\n",
              "</svg>\n",
              "  </button>\n",
              "\n",
              "<style>\n",
              "  .colab-df-quickchart {\n",
              "      --bg-color: #E8F0FE;\n",
              "      --fill-color: #1967D2;\n",
              "      --hover-bg-color: #E2EBFA;\n",
              "      --hover-fill-color: #174EA6;\n",
              "      --disabled-fill-color: #AAA;\n",
              "      --disabled-bg-color: #DDD;\n",
              "  }\n",
              "\n",
              "  [theme=dark] .colab-df-quickchart {\n",
              "      --bg-color: #3B4455;\n",
              "      --fill-color: #D2E3FC;\n",
              "      --hover-bg-color: #434B5C;\n",
              "      --hover-fill-color: #FFFFFF;\n",
              "      --disabled-bg-color: #3B4455;\n",
              "      --disabled-fill-color: #666;\n",
              "  }\n",
              "\n",
              "  .colab-df-quickchart {\n",
              "    background-color: var(--bg-color);\n",
              "    border: none;\n",
              "    border-radius: 50%;\n",
              "    cursor: pointer;\n",
              "    display: none;\n",
              "    fill: var(--fill-color);\n",
              "    height: 32px;\n",
              "    padding: 0;\n",
              "    width: 32px;\n",
              "  }\n",
              "\n",
              "  .colab-df-quickchart:hover {\n",
              "    background-color: var(--hover-bg-color);\n",
              "    box-shadow: 0 1px 2px rgba(60, 64, 67, 0.3), 0 1px 3px 1px rgba(60, 64, 67, 0.15);\n",
              "    fill: var(--button-hover-fill-color);\n",
              "  }\n",
              "\n",
              "  .colab-df-quickchart-complete:disabled,\n",
              "  .colab-df-quickchart-complete:disabled:hover {\n",
              "    background-color: var(--disabled-bg-color);\n",
              "    fill: var(--disabled-fill-color);\n",
              "    box-shadow: none;\n",
              "  }\n",
              "\n",
              "  .colab-df-spinner {\n",
              "    border: 2px solid var(--fill-color);\n",
              "    border-color: transparent;\n",
              "    border-bottom-color: var(--fill-color);\n",
              "    animation:\n",
              "      spin 1s steps(1) infinite;\n",
              "  }\n",
              "\n",
              "  @keyframes spin {\n",
              "    0% {\n",
              "      border-color: transparent;\n",
              "      border-bottom-color: var(--fill-color);\n",
              "      border-left-color: var(--fill-color);\n",
              "    }\n",
              "    20% {\n",
              "      border-color: transparent;\n",
              "      border-left-color: var(--fill-color);\n",
              "      border-top-color: var(--fill-color);\n",
              "    }\n",
              "    30% {\n",
              "      border-color: transparent;\n",
              "      border-left-color: var(--fill-color);\n",
              "      border-top-color: var(--fill-color);\n",
              "      border-right-color: var(--fill-color);\n",
              "    }\n",
              "    40% {\n",
              "      border-color: transparent;\n",
              "      border-right-color: var(--fill-color);\n",
              "      border-top-color: var(--fill-color);\n",
              "    }\n",
              "    60% {\n",
              "      border-color: transparent;\n",
              "      border-right-color: var(--fill-color);\n",
              "    }\n",
              "    80% {\n",
              "      border-color: transparent;\n",
              "      border-right-color: var(--fill-color);\n",
              "      border-bottom-color: var(--fill-color);\n",
              "    }\n",
              "    90% {\n",
              "      border-color: transparent;\n",
              "      border-bottom-color: var(--fill-color);\n",
              "    }\n",
              "  }\n",
              "</style>\n",
              "\n",
              "  <script>\n",
              "    async function quickchart(key) {\n",
              "      const quickchartButtonEl =\n",
              "        document.querySelector('#' + key + ' button');\n",
              "      quickchartButtonEl.disabled = true;  // To prevent multiple clicks.\n",
              "      quickchartButtonEl.classList.add('colab-df-spinner');\n",
              "      try {\n",
              "        const charts = await google.colab.kernel.invokeFunction(\n",
              "            'suggestCharts', [key], {});\n",
              "      } catch (error) {\n",
              "        console.error('Error during call to suggestCharts:', error);\n",
              "      }\n",
              "      quickchartButtonEl.classList.remove('colab-df-spinner');\n",
              "      quickchartButtonEl.classList.add('colab-df-quickchart-complete');\n",
              "    }\n",
              "    (() => {\n",
              "      let quickchartButtonEl =\n",
              "        document.querySelector('#df-df419277-9942-4754-ba5a-dfaebee9084a button');\n",
              "      quickchartButtonEl.style.display =\n",
              "        google.colab.kernel.accessAllowed ? 'block' : 'none';\n",
              "    })();\n",
              "  </script>\n",
              "</div>\n",
              "\n",
              "    </div>\n",
              "  </div>\n"
            ],
            "application/vnd.google.colaboratory.intrinsic+json": {
              "type": "dataframe",
              "variable_name": "dfp",
              "summary": "{\n  \"name\": \"dfp\",\n  \"rows\": 180,\n  \"fields\": [\n    {\n      \"column\": \"Job Title\",\n      \"properties\": {\n        \"dtype\": \"category\",\n        \"num_unique_values\": 18,\n        \"samples\": [\n          \"Business Intelligence (BI) Developer\",\n          \"Big Data Engineer\",\n          \"Systems Engineer\"\n        ],\n        \"semantic_type\": \"\",\n        \"description\": \"\"\n      }\n    },\n    {\n      \"column\": \"Job Description\",\n      \"properties\": {\n        \"dtype\": \"string\",\n        \"num_unique_values\": 180,\n        \"samples\": [\n          \"As a Big Data Engineer, you will play a crucial role in developing and optimizing our big data systems to ensure they are efficient, scalable, and capable of supporting our data-driven initiatives. You will work on data pipelines, real-time data processing, and storage solutions, collaborating closely with data scientists and engineers to ensure seamless integration. A degree in Computer Science or a related field is required, with expertise in big data technologies like Hadoop, Spark, and Kafka. Proficiency in programming languages such as Python, Java, or Scala is essential. Experience with cloud computing platforms like AWS, Azure, or Google Cloud is preferred. Strong problem-solving skills, attention to detail, and the ability to learn new technologies quickly will be key to your success.\",\n          \"Create engaging AR experiences by developing applications for smartphones, tablets, and AR glasses. Utilize AR development platforms such as Unity, ARKit, and ARCore to build and optimize AR content. Work with designers and engineers to integrate AR functionalities into existing products and troubleshoot issues. A degree in Computer Science or a similar field is necessary. Expertise in C# or C++ and hands-on experience with AR development tools are required. Knowledge of 3D modeling, computer vision, and user experience design is essential. Strong analytical skills and the ability to adapt to new technologies are important\",\n          \"Lead cybersecurity initiatives, manage security operations, and ensure the protection of sensitive information across the organization.Leadership in cybersecurity risk management.In-depth knowledge of malware analysis and forensics.Strong ability to design security frameworks for complex environments.Excellent understanding of advanced threat protection techniques.Proven ability to lead and mentor cybersecurity teams.\"\n        ],\n        \"semantic_type\": \"\",\n        \"description\": \"\"\n      }\n    }\n  ]\n}"
            }
          },
          "metadata": {},
          "execution_count": 8
        }
      ]
    },
    {
      "cell_type": "code",
      "source": [
        "dfp.shape"
      ],
      "metadata": {
        "colab": {
          "base_uri": "https://localhost:8080/"
        },
        "id": "TOgSt2ohQHrB",
        "outputId": "8f146aab-99dd-4fbb-a74f-9d263009169c"
      },
      "execution_count": 9,
      "outputs": [
        {
          "output_type": "execute_result",
          "data": {
            "text/plain": [
              "(180, 2)"
            ]
          },
          "metadata": {},
          "execution_count": 9
        }
      ]
    },
    {
      "cell_type": "code",
      "source": [
        "dfp = dfp.dropna()\n",
        "dfp.shape"
      ],
      "metadata": {
        "colab": {
          "base_uri": "https://localhost:8080/"
        },
        "id": "hETBDFikQIyv",
        "outputId": "4418cc59-63cb-44e8-adbc-2ea44623b121"
      },
      "execution_count": 10,
      "outputs": [
        {
          "output_type": "execute_result",
          "data": {
            "text/plain": [
              "(180, 2)"
            ]
          },
          "metadata": {},
          "execution_count": 10
        }
      ]
    },
    {
      "cell_type": "code",
      "source": [
        "import nltk\n",
        "nltk.download('stopwords')"
      ],
      "metadata": {
        "colab": {
          "base_uri": "https://localhost:8080/"
        },
        "id": "D0BtPSqCQZEB",
        "outputId": "13647395-3485-4a9b-9693-2c00ccf754a8"
      },
      "execution_count": 14,
      "outputs": [
        {
          "output_type": "stream",
          "name": "stderr",
          "text": [
            "[nltk_data] Downloading package stopwords to /root/nltk_data...\n",
            "[nltk_data]   Unzipping corpora/stopwords.zip.\n"
          ]
        },
        {
          "output_type": "execute_result",
          "data": {
            "text/plain": [
              "True"
            ]
          },
          "metadata": {},
          "execution_count": 14
        }
      ]
    },
    {
      "cell_type": "markdown",
      "source": [
        "### Preprocessing and tokenization"
      ],
      "metadata": {
        "id": "jTBQiqAmBiUW"
      }
    },
    {
      "cell_type": "markdown",
      "source": [
        "This code defines a function called `my_tokenizer` that processes a piece of text to prepare it for analysis. It first breaks the text into individual words and tags each word with its part of speech (like noun or verb). Then, it removes common words (stopwords) and punctuation. After that, it lemmatizes each remaining word, which means reducing words to their base form (like changing \"running\" to \"run\"). To do this correctly, it uses the word’s part of speech to determine the right base form. The result is a list of cleaned and lemmatized words ready for further text analysis."
      ],
      "metadata": {
        "id": "N7WINm5pBgjf"
      }
    },
    {
      "cell_type": "code",
      "source": [
        "stopwords_list = stopwords.words('english')\n",
        "\n",
        "lemmatizer = WordNetLemmatizer()\n",
        "\n",
        "def my_tokenizer(doc):\n",
        "    words = word_tokenize(doc)\n",
        "\n",
        "    pos_tags = pos_tag(words)\n",
        "\n",
        "    non_stopwords = [w for w in pos_tags if not w[0].lower() in stopwords_list]\n",
        "\n",
        "    non_punctuation = [w for w in non_stopwords if not w[0] in string.punctuation]\n",
        "\n",
        "    lemmas = []\n",
        "    for w in non_punctuation:\n",
        "        if w[1].startswith('J'):\n",
        "            pos = wordnet.ADJ\n",
        "        elif w[1].startswith('V'):\n",
        "            pos = wordnet.VERB\n",
        "        elif w[1].startswith('N'):\n",
        "            pos = wordnet.NOUN\n",
        "        elif w[1].startswith('R'):\n",
        "            pos = wordnet.ADV\n",
        "        else:\n",
        "            pos = wordnet.NOUN\n",
        "\n",
        "        lemmas.append(lemmatizer.lemmatize(w[0], pos))\n",
        "\n",
        "    return lemmas"
      ],
      "metadata": {
        "id": "lcijrBmgQK5C"
      },
      "execution_count": 15,
      "outputs": []
    },
    {
      "cell_type": "code",
      "source": [
        "import nltk\n",
        "nltk.download('punkt')"
      ],
      "metadata": {
        "colab": {
          "base_uri": "https://localhost:8080/"
        },
        "id": "mvErsiybQncX",
        "outputId": "bf29fbb3-57a7-41f5-893d-a9994c0ada1b"
      },
      "execution_count": 18,
      "outputs": [
        {
          "output_type": "stream",
          "name": "stderr",
          "text": [
            "[nltk_data] Downloading package punkt to /root/nltk_data...\n",
            "[nltk_data]   Unzipping tokenizers/punkt.zip.\n"
          ]
        },
        {
          "output_type": "execute_result",
          "data": {
            "text/plain": [
              "True"
            ]
          },
          "metadata": {},
          "execution_count": 18
        }
      ]
    },
    {
      "cell_type": "code",
      "source": [
        "import nltk\n",
        "nltk.download('averaged_perceptron_tagger')"
      ],
      "metadata": {
        "colab": {
          "base_uri": "https://localhost:8080/"
        },
        "id": "CHh03RWyQvc_",
        "outputId": "1fee785e-26fb-486f-b1fe-cfbf4c90d0e7"
      },
      "execution_count": 20,
      "outputs": [
        {
          "output_type": "stream",
          "name": "stderr",
          "text": [
            "[nltk_data] Downloading package averaged_perceptron_tagger to\n",
            "[nltk_data]     /root/nltk_data...\n",
            "[nltk_data]   Unzipping taggers/averaged_perceptron_tagger.zip.\n"
          ]
        },
        {
          "output_type": "execute_result",
          "data": {
            "text/plain": [
              "True"
            ]
          },
          "metadata": {},
          "execution_count": 20
        }
      ]
    },
    {
      "cell_type": "code",
      "source": [
        "import nltk\n",
        "nltk.download('wordnet')"
      ],
      "metadata": {
        "colab": {
          "base_uri": "https://localhost:8080/"
        },
        "id": "OHYJMkHlQ3PB",
        "outputId": "b1fc78cd-3e78-4305-8fba-09b6b99e1c97"
      },
      "execution_count": 24,
      "outputs": [
        {
          "output_type": "stream",
          "name": "stderr",
          "text": [
            "[nltk_data] Downloading package wordnet to /root/nltk_data...\n"
          ]
        },
        {
          "output_type": "execute_result",
          "data": {
            "text/plain": [
              "True"
            ]
          },
          "metadata": {},
          "execution_count": 24
        }
      ]
    },
    {
      "cell_type": "markdown",
      "source": [
        "### Feature Generation"
      ],
      "metadata": {
        "id": "GJcqkKpCB1v4"
      }
    },
    {
      "cell_type": "markdown",
      "source": [
        "This code sets up a `TfidfVectorizer` using the custom `my_tokenizer` function to process text. The `TfidfVectorizer` is used to convert a collection of job descriptions (from a DataFrame called `dfp`) into a matrix of numerical values. Each number represents the importance of a word in each job description, adjusted for how common the word is across all descriptions. The `fit_transform` method creates this matrix from the text data. Finally, `print(tfidf_matrix.shape)` outputs the size of this matrix, showing how many job descriptions and unique terms are included."
      ],
      "metadata": {
        "id": "n_I0K3PmB0w4"
      }
    },
    {
      "cell_type": "code",
      "source": [
        "tfidf_vectorizer = TfidfVectorizer(tokenizer=my_tokenizer)\n",
        "tfidf_matrix = tfidf_vectorizer.fit_transform(tuple(dfp['Job Description']))\n",
        "print(tfidf_matrix.shape)"
      ],
      "metadata": {
        "colab": {
          "base_uri": "https://localhost:8080/"
        },
        "id": "G0HA0rr9QNS2",
        "outputId": "9ef214aa-8c88-4c90-bbfe-f943763ccfe4"
      },
      "execution_count": 25,
      "outputs": [
        {
          "output_type": "stream",
          "name": "stdout",
          "text": [
            "(180, 2373)\n"
          ]
        }
      ]
    },
    {
      "cell_type": "code",
      "source": [
        "import joblib\n",
        "\n",
        "# Save TF-IDF vectorizer\n",
        "tfidf_vectorizer_filename = '/content/drive/MyDrive/LLM phd/tfidf_vectorizer_model.joblib'\n",
        "joblib.dump(tfidf_vectorizer, tfidf_vectorizer_filename)\n",
        "\n",
        "# Save cosine similarity model (tfidf_matrix)\n",
        "tfidf_matrix_filename = '/content/drive/MyDrive/LLM phd/tfidf_matrix_model.joblib'\n",
        "joblib.dump(tfidf_matrix, tfidf_matrix_filename)"
      ],
      "metadata": {
        "colab": {
          "base_uri": "https://localhost:8080/"
        },
        "id": "HHylggAeQ_6p",
        "outputId": "8279abae-1f47-4609-9383-ebde0747a0ac"
      },
      "execution_count": 26,
      "outputs": [
        {
          "output_type": "execute_result",
          "data": {
            "text/plain": [
              "['/content/drive/MyDrive/LLM phd/tfidf_matrix_model.joblib']"
            ]
          },
          "metadata": {},
          "execution_count": 26
        }
      ]
    },
    {
      "cell_type": "code",
      "source": [
        "# Function to use the saved models\n",
        "def load_models(tfidf_vectorizer_filename, tfidf_matrix_filename):\n",
        "    loaded_tfidf_vectorizer = joblib.load(tfidf_vectorizer_filename)\n",
        "    loaded_tfidf_matrix = joblib.load(tfidf_matrix_filename)\n",
        "    return loaded_tfidf_vectorizer, loaded_tfidf_matrix"
      ],
      "metadata": {
        "id": "TcE7EnphRGuK"
      },
      "execution_count": 27,
      "outputs": []
    },
    {
      "cell_type": "code",
      "source": [
        "loaded_tfidf_vectorizer, loaded_tfidf_matrix = load_models(tfidf_vectorizer_filename, tfidf_matrix_filename)"
      ],
      "metadata": {
        "id": "Swcg23xjSRzr"
      },
      "execution_count": 31,
      "outputs": []
    },
    {
      "cell_type": "code",
      "source": [
        "def ask_question_using_saved_models(job_description):\n",
        "    query_vect = loaded_tfidf_vectorizer.transform([job_description])\n",
        "    similarity = cosine_similarity(query_vect, loaded_tfidf_matrix)\n",
        "    max_similarity = np.argmax(similarity, axis=None)\n",
        "\n",
        "    print('Your Description of Job:', job_description)\n",
        "    print('Closest Description found:', dfp.iloc[max_similarity]['Job Description'])\n",
        "    print('Similarity: {:.2%}'.format(similarity[0, max_similarity]))\n",
        "    print('Job Position Recommended:', dfp.iloc[max_similarity]['Job Title'])\n"
      ],
      "metadata": {
        "id": "QZTTcwNpRKQR"
      },
      "execution_count": 33,
      "outputs": []
    },
    {
      "cell_type": "code",
      "source": [
        "ask_question_using_saved_models(\"We are looking for a Business Intelligence (BI) Developer to design, implement, and manage BI solutions that facilitate data-driven decision-making. This role involves translating business requirements into technical specifications, creating and deploying data integration processes and ETL workflows, and developing interactive dashboards and reports using BI tools such as Power BI or Tableau. The BI Developer will also optimize SQL queries for efficient data retrieval, analyze data trends to uncover business opportunities and risks, and collaborate with cross-functional teams to ensure BI solutions align with business needs. A Bachelor’s or Master’s degree in Computer Science, Information Systems, or a related field is required, along with strong SQL skills, experience with relational databases, and familiarity with BI tools and data warehousing concepts. The ideal candidate will have excellent analytical, problem-solving, and communication skills, with the ability to work independently and as part of a team.\")"
      ],
      "metadata": {
        "colab": {
          "base_uri": "https://localhost:8080/"
        },
        "id": "XI7H4cE5SUx5",
        "outputId": "69eb321e-eacb-4cea-9dd8-4252348df738"
      },
      "execution_count": 34,
      "outputs": [
        {
          "output_type": "stream",
          "name": "stdout",
          "text": [
            "Your Description of Job: We are looking for a Business Intelligence (BI) Developer to design, implement, and manage BI solutions that facilitate data-driven decision-making. This role involves translating business requirements into technical specifications, creating and deploying data integration processes and ETL workflows, and developing interactive dashboards and reports using BI tools such as Power BI or Tableau. The BI Developer will also optimize SQL queries for efficient data retrieval, analyze data trends to uncover business opportunities and risks, and collaborate with cross-functional teams to ensure BI solutions align with business needs. A Bachelor’s or Master’s degree in Computer Science, Information Systems, or a related field is required, along with strong SQL skills, experience with relational databases, and familiarity with BI tools and data warehousing concepts. The ideal candidate will have excellent analytical, problem-solving, and communication skills, with the ability to work independently and as part of a team.\n",
            "Closest Description found: Design, develop, and maintain BI solutions by gathering business requirements and translating them into technical specifications. Create and deploy data integration processes and ETL workflows. Develop and optimize SQL queries for efficient data retrieval and reporting. Design, build, and deploy interactive dashboards and reports using BI tools such as Power BI, Tableau, or similar. Analyze data trends to identify business opportunities and risks. Collaborate with cross-functional teams to ensure BI solutions meet business needs. Document BI processes and maintain data dictionaries. B.Sc or M.Sc in Computer Science, Information Systems, or a related field. Strong knowledge of SQL and relational databases like SQL Server, Oracle, or MySQL. Experience with BI tools such as Power BI, Tableau, or QlikView. Familiarity with data warehousing concepts and ETL processes. Strong analytical and problem-solving skills. Good communication skills in English, both written and spoken. Ability to work independently and in a team environment. Must be proactive and detail-oriented.\n",
            "Similarity: 78.86%\n",
            "Job Position Recommended: Business Intelligence (BI) Developer\n"
          ]
        }
      ]
    },
    {
      "cell_type": "markdown",
      "source": [
        "Tinker API for testing"
      ],
      "metadata": {
        "id": "x1ULmHb1CN6u"
      }
    },
    {
      "cell_type": "code",
      "source": [
        "import numpy as np\n",
        "import ipywidgets as widgets\n",
        "from IPython.display import display\n",
        "from sklearn.metrics.pairwise import cosine_similarity\n",
        "\n",
        "def recommend_job(description):\n",
        "    if not description:\n",
        "        return \"Please enter a Description of the Job.\"\n",
        "\n",
        "    # Transform the input description and compute similarity\n",
        "    query_vect = loaded_tfidf_vectorizer.transform([description])\n",
        "    similarity = cosine_similarity(query_vect, loaded_tfidf_matrix)\n",
        "    max_similarity = np.argmax(similarity, axis=None)\n",
        "\n",
        "    # Generate the output text\n",
        "    output_text = f'Closest Description found: {dfp.iloc[max_similarity][\"Job Description\"]}\\n' \\\n",
        "                  f'Similarity: {similarity[0, max_similarity]:.2%}\\n' \\\n",
        "                  f'Job Position Recommended: {dfp.iloc[max_similarity][\"Job Title\"]}'\n",
        "    return output_text\n",
        "\n",
        "def on_button_click(b):\n",
        "    description = text_box.value\n",
        "    output_text = recommend_job(description)\n",
        "    output_box.value = output_text\n",
        "\n",
        "def on_refresh_click(b):\n",
        "    # Clear the text box and output box\n",
        "    text_box.value = \"\"\n",
        "    output_box.value = \"\"\n",
        "\n",
        "# Create widgets\n",
        "text_box = widgets.Textarea(\n",
        "    description='Enter Job Description:',\n",
        "    layout=widgets.Layout(width='70%', height='200px')\n",
        ")\n",
        "\n",
        "button = widgets.Button(\n",
        "    description=\"Ask for Job Position Recommendation\",\n",
        "    style={'button_color': '#7CF5FF'},\n",
        "    layout=widgets.Layout(margin='20px 0 20px 0')  # Top margin of 20px\n",
        ")\n",
        "button.on_click(on_button_click)\n",
        "\n",
        "output_box = widgets.Textarea(\n",
        "    description='Output:',\n",
        "    layout=widgets.Layout(width='70%', height='200px')\n",
        ")\n",
        "\n",
        "refresh_button = widgets.Button(\n",
        "    description=\"Refresh\",\n",
        "    style={'button_color': '#FFFBE6'},\n",
        "    layout=widgets.Layout(margin='20px 0 20px 0')  # Top margin of 20px\n",
        ")\n",
        "refresh_button.on_click(on_refresh_click)\n",
        "\n",
        "# Display widgets\n",
        "display(text_box, button, output_box, refresh_button)\n"
      ],
      "metadata": {
        "colab": {
          "base_uri": "https://localhost:8080/",
          "height": 561,
          "referenced_widgets": [
            "295ec11ddbee4922ad72c877cc4a94bb",
            "5e2966319feb434d95c996e2029e4ed4",
            "343ecb7caa8f4e6aaad5e085a212b8fb",
            "8b84ab1fa69347c48e59759db3b733fb",
            "c2e56e9ba7bb4f02b219aa0526bc9d90",
            "698537e5f70948058e9c7e81ede6ad2c",
            "65081fa3d22040dabed3ea8e52b2053f",
            "70ebd37a4ce141108b7e47f26450b77b",
            "27334c1ce59e497d8212b20d7805fe0e",
            "d03d2302ed474c75979b365cdf317626",
            "3aa88028cc9e428c92f6c57f072f47bc",
            "eecae7dfd7984b45b9a16297555a1df2"
          ]
        },
        "id": "pouQ5su4Txbw",
        "outputId": "5140a5c2-f6d2-4719-babf-c6458de4eb1a"
      },
      "execution_count": 53,
      "outputs": [
        {
          "output_type": "display_data",
          "data": {
            "text/plain": [
              "Textarea(value='', description='Enter Job Description:', layout=Layout(height='200px', width='70%'))"
            ],
            "application/vnd.jupyter.widget-view+json": {
              "version_major": 2,
              "version_minor": 0,
              "model_id": "295ec11ddbee4922ad72c877cc4a94bb"
            }
          },
          "metadata": {}
        },
        {
          "output_type": "display_data",
          "data": {
            "text/plain": [
              "Button(description='Ask for Job Position Recommendation', layout=Layout(margin='20px 0 20px 0'), style=ButtonS…"
            ],
            "application/vnd.jupyter.widget-view+json": {
              "version_major": 2,
              "version_minor": 0,
              "model_id": "8b84ab1fa69347c48e59759db3b733fb"
            }
          },
          "metadata": {}
        },
        {
          "output_type": "display_data",
          "data": {
            "text/plain": [
              "Textarea(value='', description='Output:', layout=Layout(height='200px', width='70%'))"
            ],
            "application/vnd.jupyter.widget-view+json": {
              "version_major": 2,
              "version_minor": 0,
              "model_id": "65081fa3d22040dabed3ea8e52b2053f"
            }
          },
          "metadata": {}
        },
        {
          "output_type": "display_data",
          "data": {
            "text/plain": [
              "Button(description='Refresh', layout=Layout(margin='20px 0 20px 0'), style=ButtonStyle(button_color='#FFFBE6')…"
            ],
            "application/vnd.jupyter.widget-view+json": {
              "version_major": 2,
              "version_minor": 0,
              "model_id": "d03d2302ed474c75979b365cdf317626"
            }
          },
          "metadata": {}
        }
      ]
    },
    {
      "cell_type": "code",
      "source": [
        "pip install firebase-admin"
      ],
      "metadata": {
        "colab": {
          "base_uri": "https://localhost:8080/"
        },
        "id": "U71K8TD0fBQb",
        "outputId": "fc4d1563-382e-479f-989c-b8a60828c42c"
      },
      "execution_count": 63,
      "outputs": [
        {
          "output_type": "stream",
          "name": "stdout",
          "text": [
            "Requirement already satisfied: firebase-admin in /usr/local/lib/python3.10/dist-packages (6.5.0)\n",
            "Requirement already satisfied: cachecontrol>=0.12.6 in /usr/local/lib/python3.10/dist-packages (from firebase-admin) (0.14.0)\n",
            "Requirement already satisfied: google-api-python-client>=1.7.8 in /usr/local/lib/python3.10/dist-packages (from firebase-admin) (2.137.0)\n",
            "Requirement already satisfied: google-cloud-storage>=1.37.1 in /usr/local/lib/python3.10/dist-packages (from firebase-admin) (2.8.0)\n",
            "Requirement already satisfied: pyjwt>=2.5.0 in /usr/local/lib/python3.10/dist-packages (from pyjwt[crypto]>=2.5.0->firebase-admin) (2.9.0)\n",
            "Requirement already satisfied: google-api-core<3.0.0dev,>=1.22.1 in /usr/local/lib/python3.10/dist-packages (from google-api-core[grpc]<3.0.0dev,>=1.22.1; platform_python_implementation != \"PyPy\"->firebase-admin) (2.19.2)\n",
            "Requirement already satisfied: google-cloud-firestore>=2.9.1 in /usr/local/lib/python3.10/dist-packages (from firebase-admin) (2.16.1)\n",
            "Requirement already satisfied: requests>=2.16.0 in /usr/local/lib/python3.10/dist-packages (from cachecontrol>=0.12.6->firebase-admin) (2.32.3)\n",
            "Requirement already satisfied: msgpack<2.0.0,>=0.5.2 in /usr/local/lib/python3.10/dist-packages (from cachecontrol>=0.12.6->firebase-admin) (1.0.8)\n",
            "Requirement already satisfied: googleapis-common-protos<2.0.dev0,>=1.56.2 in /usr/local/lib/python3.10/dist-packages (from google-api-core<3.0.0dev,>=1.22.1->google-api-core[grpc]<3.0.0dev,>=1.22.1; platform_python_implementation != \"PyPy\"->firebase-admin) (1.65.0)\n",
            "Requirement already satisfied: protobuf!=3.20.0,!=3.20.1,!=4.21.0,!=4.21.1,!=4.21.2,!=4.21.3,!=4.21.4,!=4.21.5,<6.0.0.dev0,>=3.19.5 in /usr/local/lib/python3.10/dist-packages (from google-api-core<3.0.0dev,>=1.22.1->google-api-core[grpc]<3.0.0dev,>=1.22.1; platform_python_implementation != \"PyPy\"->firebase-admin) (3.20.3)\n",
            "Requirement already satisfied: proto-plus<2.0.0dev,>=1.22.3 in /usr/local/lib/python3.10/dist-packages (from google-api-core<3.0.0dev,>=1.22.1->google-api-core[grpc]<3.0.0dev,>=1.22.1; platform_python_implementation != \"PyPy\"->firebase-admin) (1.24.0)\n",
            "Requirement already satisfied: google-auth<3.0.dev0,>=2.14.1 in /usr/local/lib/python3.10/dist-packages (from google-api-core<3.0.0dev,>=1.22.1->google-api-core[grpc]<3.0.0dev,>=1.22.1; platform_python_implementation != \"PyPy\"->firebase-admin) (2.27.0)\n",
            "Requirement already satisfied: grpcio<2.0dev,>=1.33.2 in /usr/local/lib/python3.10/dist-packages (from google-api-core[grpc]<3.0.0dev,>=1.22.1; platform_python_implementation != \"PyPy\"->firebase-admin) (1.64.1)\n",
            "Requirement already satisfied: grpcio-status<2.0.dev0,>=1.33.2 in /usr/local/lib/python3.10/dist-packages (from google-api-core[grpc]<3.0.0dev,>=1.22.1; platform_python_implementation != \"PyPy\"->firebase-admin) (1.48.2)\n",
            "Requirement already satisfied: httplib2<1.dev0,>=0.19.0 in /usr/local/lib/python3.10/dist-packages (from google-api-python-client>=1.7.8->firebase-admin) (0.22.0)\n",
            "Requirement already satisfied: google-auth-httplib2<1.0.0,>=0.2.0 in /usr/local/lib/python3.10/dist-packages (from google-api-python-client>=1.7.8->firebase-admin) (0.2.0)\n",
            "Requirement already satisfied: uritemplate<5,>=3.0.1 in /usr/local/lib/python3.10/dist-packages (from google-api-python-client>=1.7.8->firebase-admin) (4.1.1)\n",
            "Requirement already satisfied: google-cloud-core<3.0.0dev,>=1.4.1 in /usr/local/lib/python3.10/dist-packages (from google-cloud-firestore>=2.9.1->firebase-admin) (2.4.1)\n",
            "Requirement already satisfied: google-resumable-media>=2.3.2 in /usr/local/lib/python3.10/dist-packages (from google-cloud-storage>=1.37.1->firebase-admin) (2.7.2)\n",
            "Requirement already satisfied: cryptography>=3.4.0 in /usr/local/lib/python3.10/dist-packages (from pyjwt[crypto]>=2.5.0->firebase-admin) (43.0.1)\n",
            "Requirement already satisfied: cffi>=1.12 in /usr/local/lib/python3.10/dist-packages (from cryptography>=3.4.0->pyjwt[crypto]>=2.5.0->firebase-admin) (1.17.1)\n",
            "Requirement already satisfied: cachetools<6.0,>=2.0.0 in /usr/local/lib/python3.10/dist-packages (from google-auth<3.0.dev0,>=2.14.1->google-api-core<3.0.0dev,>=1.22.1->google-api-core[grpc]<3.0.0dev,>=1.22.1; platform_python_implementation != \"PyPy\"->firebase-admin) (5.5.0)\n",
            "Requirement already satisfied: pyasn1-modules>=0.2.1 in /usr/local/lib/python3.10/dist-packages (from google-auth<3.0.dev0,>=2.14.1->google-api-core<3.0.0dev,>=1.22.1->google-api-core[grpc]<3.0.0dev,>=1.22.1; platform_python_implementation != \"PyPy\"->firebase-admin) (0.4.1)\n",
            "Requirement already satisfied: rsa<5,>=3.1.4 in /usr/local/lib/python3.10/dist-packages (from google-auth<3.0.dev0,>=2.14.1->google-api-core<3.0.0dev,>=1.22.1->google-api-core[grpc]<3.0.0dev,>=1.22.1; platform_python_implementation != \"PyPy\"->firebase-admin) (4.9)\n",
            "Requirement already satisfied: google-crc32c<2.0dev,>=1.0 in /usr/local/lib/python3.10/dist-packages (from google-resumable-media>=2.3.2->google-cloud-storage>=1.37.1->firebase-admin) (1.6.0)\n",
            "Requirement already satisfied: pyparsing!=3.0.0,!=3.0.1,!=3.0.2,!=3.0.3,<4,>=2.4.2 in /usr/local/lib/python3.10/dist-packages (from httplib2<1.dev0,>=0.19.0->google-api-python-client>=1.7.8->firebase-admin) (3.1.4)\n",
            "Requirement already satisfied: charset-normalizer<4,>=2 in /usr/local/lib/python3.10/dist-packages (from requests>=2.16.0->cachecontrol>=0.12.6->firebase-admin) (3.3.2)\n",
            "Requirement already satisfied: idna<4,>=2.5 in /usr/local/lib/python3.10/dist-packages (from requests>=2.16.0->cachecontrol>=0.12.6->firebase-admin) (3.8)\n",
            "Requirement already satisfied: urllib3<3,>=1.21.1 in /usr/local/lib/python3.10/dist-packages (from requests>=2.16.0->cachecontrol>=0.12.6->firebase-admin) (2.0.7)\n",
            "Requirement already satisfied: certifi>=2017.4.17 in /usr/local/lib/python3.10/dist-packages (from requests>=2.16.0->cachecontrol>=0.12.6->firebase-admin) (2024.8.30)\n",
            "Requirement already satisfied: pycparser in /usr/local/lib/python3.10/dist-packages (from cffi>=1.12->cryptography>=3.4.0->pyjwt[crypto]>=2.5.0->firebase-admin) (2.22)\n",
            "Requirement already satisfied: pyasn1<0.7.0,>=0.4.6 in /usr/local/lib/python3.10/dist-packages (from pyasn1-modules>=0.2.1->google-auth<3.0.dev0,>=2.14.1->google-api-core<3.0.0dev,>=1.22.1->google-api-core[grpc]<3.0.0dev,>=1.22.1; platform_python_implementation != \"PyPy\"->firebase-admin) (0.6.1)\n"
          ]
        }
      ]
    },
    {
      "cell_type": "code",
      "source": [
        "from google.colab import drive\n",
        "drive.mount('/content/drive/')"
      ],
      "metadata": {
        "colab": {
          "base_uri": "https://localhost:8080/"
        },
        "id": "amPY9D48gUJb",
        "outputId": "88d10a52-5df0-4579-93e8-dbb6107203ee"
      },
      "execution_count": 64,
      "outputs": [
        {
          "output_type": "stream",
          "name": "stdout",
          "text": [
            "Drive already mounted at /content/drive/; to attempt to forcibly remount, call drive.mount(\"/content/drive/\", force_remount=True).\n"
          ]
        }
      ]
    },
    {
      "cell_type": "markdown",
      "source": [
        "### Firebase Console Setup"
      ],
      "metadata": {
        "id": "c4icb7qMCCbZ"
      }
    },
    {
      "cell_type": "code",
      "source": [
        "import firebase_admin\n",
        "from firebase_admin import credentials, db\n",
        "\n",
        "# Path to your Firebase service account key JSON file\n",
        "cred = credentials.Certificate('/content/drive/MyDrive/LLM phd/feedback-job-recommendation-firebase-adminsdk-n6zig-3863863b60.json')\n",
        "firebase_admin.initialize_app(cred, {\n",
        "    'databaseURL': 'https://feedback-job-recommendation-default-rtdb.firebaseio.com/'\n",
        "})\n",
        "\n",
        "# Initialize a reference to the database\n",
        "ref = db.reference('/feedback')\n"
      ],
      "metadata": {
        "id": "7BqhqcJSfHjL"
      },
      "execution_count": 65,
      "outputs": []
    },
    {
      "cell_type": "markdown",
      "source": [
        "Save Feedback of user"
      ],
      "metadata": {
        "id": "WxxycwTACGui"
      }
    },
    {
      "cell_type": "code",
      "source": [
        "import firebase_admin\n",
        "from firebase_admin import credentials, db\n",
        "import ipywidgets as widgets\n",
        "from IPython.display import display\n",
        "\n",
        "def initialize_firebase():\n",
        "    # Check if Firebase is already initialized\n",
        "    if not firebase_admin._apps:\n",
        "        cred = credentials.Certificate('/content/drive/MyDrive/LLM phd/feedback-job-recommendation-firebase-adminsdk-n6zig-3863863b60.json')\n",
        "        firebase_admin.initialize_app(cred, {\n",
        "            'databaseURL': 'https://feedback-job-recommendation-default-rtdb.firebaseio.com/'\n",
        "        })\n",
        "    return db.reference('/feedback')\n",
        "\n",
        "feedback_ref = initialize_firebase()\n",
        "\n",
        "def submit_feedback(b):\n",
        "    user_email = feedback_title_box.value\n",
        "    user_feedback = feedback_text_box.value\n",
        "\n",
        "    if user_email and user_feedback:\n",
        "        feedback_ref.push({\n",
        "            'user_email': user_email,\n",
        "            'feedback': user_feedback\n",
        "        })\n",
        "        print(f\"Feedback for {user_email}: {user_feedback}\")\n",
        "        feedback_title_box.value = \"\"\n",
        "        feedback_text_box.value = \"\"\n",
        "    else:\n",
        "        print(\"Both User email address and Feedback are required.\")\n",
        "\n",
        "feedback_title_box = widgets.Text(\n",
        "    description='User Email Address:',\n",
        "    layout=widgets.Layout(width='70%')\n",
        ")\n",
        "\n",
        "feedback_text_box = widgets.Textarea(\n",
        "    description='Feedback:',\n",
        "    layout=widgets.Layout(width='70%', height='100px')\n",
        ")\n",
        "\n",
        "feedback_button = widgets.Button(\n",
        "    description=\"Submit Feedback\",\n",
        "    style={'button_color': '#4CAF50'},\n",
        "    layout=widgets.Layout(margin='20px 0 20px 0')  # Top margin of 20px\n",
        ")\n",
        "feedback_button.on_click(submit_feedback)\n",
        "\n",
        "display(feedback_title_box, feedback_text_box, feedback_button)\n"
      ],
      "metadata": {
        "colab": {
          "base_uri": "https://localhost:8080/",
          "height": 236,
          "referenced_widgets": [
            "d94e22998e0f44d5bcc14a829dc54093",
            "18fd3ac85e3646fa83abade1663f1cce",
            "0dbb4bc3c4a24cdbba14e69a80908af3",
            "cef41c7976584b9099c3fa4416251d48",
            "8b9817b2c98548539fd16fc9bf18613f",
            "ff758903ae71490294137fbc0bfbb85f",
            "2375dc884bfd419b8d73cb2cee374339",
            "7d5547e152034ea6a6b1926abf620c85",
            "06eef21d5ead450c9db29e66c09386fa"
          ]
        },
        "id": "1x8gL_v9ghpb",
        "outputId": "a1771798-cfe0-4f98-cea9-5cf688088403"
      },
      "execution_count": 80,
      "outputs": [
        {
          "output_type": "display_data",
          "data": {
            "text/plain": [
              "Text(value='', description='User Email Address:', layout=Layout(width='70%'))"
            ],
            "application/vnd.jupyter.widget-view+json": {
              "version_major": 2,
              "version_minor": 0,
              "model_id": "d94e22998e0f44d5bcc14a829dc54093"
            }
          },
          "metadata": {}
        },
        {
          "output_type": "display_data",
          "data": {
            "text/plain": [
              "Textarea(value='', description='Feedback:', layout=Layout(height='100px', width='70%'))"
            ],
            "application/vnd.jupyter.widget-view+json": {
              "version_major": 2,
              "version_minor": 0,
              "model_id": "cef41c7976584b9099c3fa4416251d48"
            }
          },
          "metadata": {}
        },
        {
          "output_type": "display_data",
          "data": {
            "text/plain": [
              "Button(description='Submit Feedback', layout=Layout(margin='20px 0 20px 0'), style=ButtonStyle(button_color='#…"
            ],
            "application/vnd.jupyter.widget-view+json": {
              "version_major": 2,
              "version_minor": 0,
              "model_id": "2375dc884bfd419b8d73cb2cee374339"
            }
          },
          "metadata": {}
        },
        {
          "output_type": "stream",
          "name": "stdout",
          "text": [
            "Feedback for f: ff\n"
          ]
        }
      ]
    },
    {
      "cell_type": "markdown",
      "source": [
        "See privious feedback"
      ],
      "metadata": {
        "id": "F4DuiUL0B_I2"
      }
    },
    {
      "cell_type": "code",
      "source": [
        "import firebase_admin\n",
        "from firebase_admin import credentials, db\n",
        "import ipywidgets as widgets\n",
        "from IPython.display import display\n",
        "\n",
        "# Initialize Firebase if not already done\n",
        "def initialize_firebase():\n",
        "    if not firebase_admin._apps:\n",
        "        cred = credentials.Certificate('/content/drive/MyDrive/LLM phd/feedback-job-recommendation-firebase-adminsdk-n6zig-3863863b60.json')\n",
        "        firebase_admin.initialize_app(cred, {\n",
        "            'databaseURL': 'https://feedback-job-recommendation-default-rtdb.firebaseio.com/'\n",
        "        })\n",
        "    return db.reference('/feedback')\n",
        "\n",
        "# Initialize the feedback reference\n",
        "feedback_ref = initialize_firebase()\n",
        "\n",
        "def load_feedback():\n",
        "    # Retrieve all feedback entries\n",
        "    feedbacks = feedback_ref.get()\n",
        "\n",
        "    # Prepare feedbacks for display\n",
        "    feedback_texts = []\n",
        "    if feedbacks:\n",
        "        for key, feedback in feedbacks.items():\n",
        "            user_email = feedback.get('user_email', 'Unknown')\n",
        "            feedback_text = feedback.get('feedback', 'No feedback provided')\n",
        "            feedback_texts.append(f\"Email: {user_email}\\nFeedback: {feedback_text}\\n{'-'*40}\")\n",
        "    else:\n",
        "        feedback_texts.append(\"No feedback available.\")\n",
        "\n",
        "    # Update feedback_display_box with the feedbacks\n",
        "    feedback_display_box.value = \"\\n\".join(feedback_texts)\n",
        "\n",
        "# Widget to display previous feedbacks\n",
        "feedback_display_box = widgets.Textarea(\n",
        "    description='Previous Feedbacks:',\n",
        "    layout=widgets.Layout(width='70%', height='300px'),\n",
        "    disabled=True\n",
        ")\n",
        "\n",
        "# Load feedbacks when initializing\n",
        "load_feedback()\n",
        "\n",
        "# Display the feedback display widget\n",
        "display(feedback_display_box)\n"
      ],
      "metadata": {
        "colab": {
          "base_uri": "https://localhost:8080/",
          "height": 321,
          "referenced_widgets": [
            "f6ddf3001f2240348dcaf070238518c8",
            "a0e8926323fb4e48bc3653110f044c3c",
            "495ff8fdfd3844468782114a138a77fa"
          ]
        },
        "id": "NSPIFiV9lGxm",
        "outputId": "82b313f3-c0c6-46cb-8202-dc57fdd8df9c"
      },
      "execution_count": 81,
      "outputs": [
        {
          "output_type": "display_data",
          "data": {
            "text/plain": [
              "Textarea(value='Email: ssss\\nFeedback: aaaaaaaa\\n----------------------------------------\\nEmail: af\\nFeedback…"
            ],
            "application/vnd.jupyter.widget-view+json": {
              "version_major": 2,
              "version_minor": 0,
              "model_id": "f6ddf3001f2240348dcaf070238518c8"
            }
          },
          "metadata": {}
        }
      ]
    },
    {
      "cell_type": "markdown",
      "source": [
        "Testing the APP"
      ],
      "metadata": {
        "id": "jdiaCHz3CJYu"
      }
    },
    {
      "cell_type": "code",
      "source": [
        "import firebase_admin\n",
        "from firebase_admin import credentials, db\n",
        "import ipywidgets as widgets\n",
        "from IPython.display import display\n",
        "import numpy as np\n",
        "from sklearn.metrics.pairwise import cosine_similarity\n",
        "\n",
        "class FirebaseManager:\n",
        "    _app_initialized = False\n",
        "    _db_ref = None\n",
        "\n",
        "    @staticmethod\n",
        "    def initialize_firebase():\n",
        "        if not FirebaseManager._app_initialized:\n",
        "            try:\n",
        "                # Initialize Firebase app only if not already initialized\n",
        "                cred = credentials.Certificate('paste the path of your json file')\n",
        "                firebase_admin.initialize_app(cred, {\n",
        "                    'databaseURL': 'paste your database url'\n",
        "                })\n",
        "                FirebaseManager._app_initialized = True\n",
        "            except ValueError as e:\n",
        "                # Handle the case where the app is already initialized\n",
        "                print(\"Firebase app already initialized:\", e)\n",
        "\n",
        "        if FirebaseManager._db_ref is None:\n",
        "            FirebaseManager._db_ref = db.reference('/job_data')\n",
        "        return FirebaseManager._db_ref\n",
        "\n",
        "# Initialize Firebase\n",
        "job_data_ref = FirebaseManager.initialize_firebase()\n",
        "\n",
        "def submit_job_data(description, job_title):\n",
        "    if description and job_title:\n",
        "        job_data_ref.push({\n",
        "            'job_description': description,\n",
        "            'job_title': job_title\n",
        "        })\n",
        "        print(\"Thank You for using our APP\")\n",
        "    else:\n",
        "        print(\"Both Job Description and Job Title are required.\")\n",
        "\n",
        "def ask_question_using_saved_models(job_description):\n",
        "    query_vect = loaded_tfidf_vectorizer.transform([job_description])\n",
        "    similarity = cosine_similarity(query_vect, loaded_tfidf_matrix)\n",
        "    max_similarity = np.argmax(similarity, axis=None)\n",
        "\n",
        "    closest_description = dfp.iloc[max_similarity][\"Job Description\"]\n",
        "    job_title = dfp.iloc[max_similarity][\"Job Title\"]\n",
        "\n",
        "    output_prompt = (f'Closest Description found: {closest_description}\\n'\n",
        "                     f'Similarity: {similarity[0, max_similarity]:.2%}\\n'\n",
        "                     f'Job Position Recommended: {job_title}')\n",
        "\n",
        "    # Save job description and job title to Firebase\n",
        "    submit_job_data(job_description, job_title)\n",
        "\n",
        "    # Update output_box with result\n",
        "    output_box.value = output_prompt\n",
        "\n",
        "def refresh_fields(b):\n",
        "    # Clear the text box and output box\n",
        "    text_box.value = \"\"\n",
        "    output_box.value = \"\"\n",
        "\n",
        "# Define the widgets\n",
        "text_box = widgets.Textarea(\n",
        "    description='Enter Job Description:',\n",
        "    layout=widgets.Layout(width='70%', height='200px')\n",
        ")\n",
        "\n",
        "button = widgets.Button(\n",
        "    description=\"Ask for Job Position Recommendation\",\n",
        "    style={'button_color': '#7CF5FF'},\n",
        "    layout=widgets.Layout(margin='20px 0 20px 0')  # Top margin of 20px\n",
        ")\n",
        "button.on_click(lambda b: ask_question_using_saved_models(text_box.value))\n",
        "\n",
        "output_box = widgets.Textarea(\n",
        "    description='Output:',\n",
        "    layout=widgets.Layout(width='70%', height='200px')\n",
        ")\n",
        "\n",
        "refresh_button = widgets.Button(\n",
        "    description=\"Refresh\",\n",
        "    style={'button_color': '#FFFBE6'},\n",
        "    layout=widgets.Layout(margin='20px 0 20px 0')  # Top margin of 20px\n",
        ")\n",
        "refresh_button.on_click(refresh_fields)\n",
        "\n",
        "# Display widgets\n",
        "display(text_box, button, output_box, refresh_button)\n"
      ],
      "metadata": {
        "colab": {
          "base_uri": "https://localhost:8080/",
          "height": 616,
          "referenced_widgets": [
            "0385f7a1c7ea442eab2b9d548fe32442",
            "aeab581f4f7a42a59dde4b6e468b2a74",
            "bfbebb9c7df8490d92ab90eec7dc961d",
            "385b5d99954d4ee9a4d316c8639af51f",
            "44731d06809249359f8a018237277a9a",
            "8649973abcaf492980c3492f6c792ad7",
            "b122cc2db1db4ae78c4235eb3cec5432",
            "0f8a8df3ecae44848b8d38658778d78a",
            "a65f1b2c628a4dd08218b7e201a242e9",
            "8179b6073d664be3876494d89dbfadeb",
            "faa9b53fe7de4f7e91af135a35855274",
            "7e080b1d59a549d6963a8ea5feb5798c"
          ]
        },
        "id": "D8Qx_NgghmvU",
        "outputId": "0e4bd249-8828-4b5b-9374-c3534329cc08"
      },
      "execution_count": 77,
      "outputs": [
        {
          "output_type": "stream",
          "name": "stdout",
          "text": [
            "Firebase app already initialized: The default Firebase app already exists. This means you called initialize_app() more than once without providing an app name as the second argument. In most cases you only need to call initialize_app() once. But if you do want to initialize multiple apps, pass a second argument to initialize_app() to give each app a unique name.\n"
          ]
        },
        {
          "output_type": "display_data",
          "data": {
            "text/plain": [
              "Textarea(value='', description='Enter Job Description:', layout=Layout(height='200px', width='70%'))"
            ],
            "application/vnd.jupyter.widget-view+json": {
              "version_major": 2,
              "version_minor": 0,
              "model_id": "0385f7a1c7ea442eab2b9d548fe32442"
            }
          },
          "metadata": {}
        },
        {
          "output_type": "display_data",
          "data": {
            "text/plain": [
              "Button(description='Ask for Job Position Recommendation', layout=Layout(margin='20px 0 20px 0'), style=ButtonS…"
            ],
            "application/vnd.jupyter.widget-view+json": {
              "version_major": 2,
              "version_minor": 0,
              "model_id": "385b5d99954d4ee9a4d316c8639af51f"
            }
          },
          "metadata": {}
        },
        {
          "output_type": "display_data",
          "data": {
            "text/plain": [
              "Textarea(value='', description='Output:', layout=Layout(height='200px', width='70%'))"
            ],
            "application/vnd.jupyter.widget-view+json": {
              "version_major": 2,
              "version_minor": 0,
              "model_id": "b122cc2db1db4ae78c4235eb3cec5432"
            }
          },
          "metadata": {}
        },
        {
          "output_type": "display_data",
          "data": {
            "text/plain": [
              "Button(description='Refresh', layout=Layout(margin='20px 0 20px 0'), style=ButtonStyle(button_color='#FFFBE6')…"
            ],
            "application/vnd.jupyter.widget-view+json": {
              "version_major": 2,
              "version_minor": 0,
              "model_id": "8179b6073d664be3876494d89dbfadeb"
            }
          },
          "metadata": {}
        },
        {
          "output_type": "stream",
          "name": "stdout",
          "text": [
            "Job data saved successfully.\n"
          ]
        }
      ]
    }
  ]
}
